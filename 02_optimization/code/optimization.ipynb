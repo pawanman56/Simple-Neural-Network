{
 "cells": [
  {
   "cell_type": "markdown",
   "source": [
    "# Optimization \\[20 points\\]\n"
   ],
   "metadata": {
    "collapsed": false,
    "pycharm": {
     "name": "#%% md\n"
    }
   }
  },
  {
   "cell_type": "markdown",
   "source": [
    "<b><span style=\"color:#00CED1\">Association:</span></b>\n",
    "<span style=\"color:#00CED1\">Otto-Friedrich University of Bamberg</span>\n",
    "<span style=\"color:#00CED1\">Chair of Explainable Machine Learning (xAI)</span>\n",
    "<span style=\"color:#00CED1\">Deep Learning Assignments</span>\n",
    "\n",
    "<b><span style=\"color:#00CED1\">Description:</span></b>\n",
    "<span style=\"color:#00CED1\">This notebook introduces different optimization methods including (Stochastic) Gradient Descent, Momentum, RMSProp and Adam.</span>\n",
    "<span style=\"color:#00CED1\">Students will implement all of those and learn how each of them lead to different results.</span>\n",
    "\n",
    "<span style=\"color:#00CED1\"><b>Author:</b> Sebastian Doerrich</span>\n",
    "<span style=\"color:#00CED1\"><b>Copyright:</b> Copyright (c) 2022, Chair of Explainable Machine Learning (xAI), Otto-Friedrich University of Bamberg</span>\n",
    "<span style=\"color:#00CED1\"><b>Credits:</b> Christian Ledig, Sebastian Doerrich</span>\n",
    "<span style=\"color:#00CED1\"><b>License:</b> CC BY-SA</span>\n",
    "<span style=\"color:#00CED1\"><b>Version:</b> 1.0</span>\n",
    "<span style=\"color:#00CED1\"><b>Python:</b> Python 3</span>\n",
    "<span style=\"color:#00CED1\"><b>Maintainer:</b> Sebastian Doerrich</span>\n",
    "<span style=\"color:#00CED1\"><b>Email:</b> sebastian.doerrich@uni-bamberg.de</span>\n",
    "<span style=\"color:#00CED1\"><b>Status:</b> Production</span>"
   ],
   "metadata": {
    "collapsed": false,
    "pycharm": {
     "name": "#%% md\n"
    }
   }
  },
  {
   "cell_type": "markdown",
   "source": [
    "## Context\n",
    "Welcome to the next part of your third programming assignment.\n",
    "In this part you will implement different optimization methods and learn how all of them lead to different results.\n",
    "\n",
    "## Motivation\n",
    "Optimization of your model's parameters during training is necessary, to ensure convergence and good prediction results. Until now, you've always used Gradient Descent to update the parameters and minimize the cost. In this notebook, you'll gain skills with some more advanced optimization methods that can speed up learning and perhaps even get you to a better final value for the cost function. Having a good optimization algorithm can be the difference between waiting days vs. just a few hours to get a good result.\n",
    "\n",
    "By the end of this notebook, you'll be able to:\n",
    "\n",
    "* Apply optimization methods such as (Stochastic) Gradient Descent, Momentum, RMSProp and Adam\n",
    "* Use random minibatches to accelerate convergence and improve optimization\n",
    "\n",
    "Let's get started!\n",
    "\n",
    "## Instructions\n",
    "- You will be using Python 3.\n",
    "- After coding your function, run the cell right below it to check if your result is correct.\n",
    "\n",
    "## Important Notes for Your Submission\n",
    "Before submitting your assignment, please make sure you are not doing the following:\n",
    "\n",
    "1. You have not added any _extra_ `print` statement(s) in the assignment.\n",
    "2. You have not added any _extra_ code cell(s) in the assignment.\n",
    "3. You have not changed any of the function parameters.\n",
    "4. You are not using any global variables inside your graded exercises. Unless specifically instructed to do so, please refrain from it and use the local variables instead.\n",
    "5. You are not changing the assignment code where it is not required, like creating _extra_ variables.\n",
    "\n",
    "If you do any of the mentioned, our test scripts will fail and as a result you will receive **0 points** for the respective task.\n",
    "\n",
    "## Table of Contents\n",
    "- [0 - Import the Necessary Libraries](#0)\n",
    "- [1 - Visualization](#1)\n",
    "- [2 - Gradient Descent](#2)\n",
    "    - [2.1 - Gradient Descent Update Rule](#2-1)\n",
    "    - [2.2 - Stochastic Gradient Descent (SGD)](#2-2)\n",
    "    - [2.3 - Batch Gradient Descent](#2-3)\n",
    "    - [2.4 - Mini-Batch Gradient Descent](#2-4)\n",
    "- [3 - Momentum](#3)\n",
    "    - [3.1 - Initialize the Velocity](#3-1)\n",
    "    - [3.2 - Update the Model’s Parameters with Momentum](#3-2)\n",
    "- [4 - Adam](#4)\n",
    "    - [4.1 - Initialize Adam](#4-1)\n",
    "    - [4.2 - Update Parameters using Adam](#4-2)\n",
    "- [5 - Model with different Optimization algorithms](#5)\n",
    "    - [5.1 - Mini-Batch Gradient Descent](#5-1)\n",
    "    - [5.2 - Mini-Batch Gradient Descent with Momentum](#5-2)\n",
    "    - [5.3 - Mini-Batch with Adam](#5-3)\n",
    "    - [5.4 - Summary](#5-4)\n",
    "- [6 - Learning Rate Decay and Scheduling](#6)\n",
    "    - [6.1 - Decay on Every Iteration](#6-1)\n",
    "    - [6.2 - Fixed Interval Scheduling](#6-2)\n",
    "    - [6.3 - Using Scheduled Learning Rate Decay for each Optimization Method](#6-3)\n",
    "        - [6.3.1 - Gradient Descent with Scheduled Learning Rate Decay](#6-3-1)\n",
    "        - [6.3.2 - Gradient Descent with Momentum and Scheduled Learning Rate Decay](#6-3-2)\n",
    "        - [6.3.3 - Adam with Scheduled Learning Rate Decay](#6-3-3)\n",
    "    - [6.4 - Achieving similar performance with different methods](#6-4)\n",
    "- [7 - End of Exercise](#7)"
   ],
   "metadata": {
    "collapsed": false,
    "pycharm": {
     "name": "#%% md\n"
    }
   }
  },
  {
   "cell_type": "markdown",
   "source": [
    "<a name='0'></a>\n",
    "## 0 - Import the Necessary Libraries ##"
   ],
   "metadata": {
    "collapsed": false,
    "pycharm": {
     "name": "#%% md\n"
    }
   }
  },
  {
   "cell_type": "code",
   "execution_count": null,
   "outputs": [],
   "source": [
    "# Import packages\n",
    "import numpy as np\n",
    "import math\n",
    "import sklearn\n",
    "import sklearn.datasets\n",
    "import pickle\n",
    "import matplotlib.pyplot as plt\n",
    "%matplotlib inline"
   ],
   "metadata": {
    "collapsed": false,
    "pycharm": {
     "name": "#%%\n"
    }
   }
  },
  {
   "cell_type": "markdown",
   "source": [],
   "metadata": {
    "collapsed": false
   }
  },
  {
   "cell_type": "markdown",
   "source": [
    "<a id='1'></a>\n",
    "## 1 - Visualization ##\n",
    "\n",
    "These functions will be used for visualization. We provide those for you, so you can plot your results. You don't have to code anything here."
   ],
   "metadata": {
    "collapsed": false,
    "pycharm": {
     "name": "#%% md\n"
    }
   }
  },
  {
   "cell_type": "code",
   "execution_count": null,
   "outputs": [],
   "source": [
    "class Visualization:\n",
    "    \"\"\"\n",
    "    This class is used to collect all visualizations.\n",
    "    \"\"\"\n",
    "\n",
    "    @staticmethod\n",
    "    def plot_the_cost(axes, iterations: list, costs: list, learning_rate: float):\n",
    "        \"\"\"\n",
    "        Plot the cost of the network during training.\n",
    "\n",
    "        :param iterations: Training iterations in the form [0, 1000, 2000, ..., 15000].\n",
    "        :param costs: Costs of the network for each training iteration.\n",
    "        :param learning_rate: Learning rate of the optimization algorithm.\n",
    "        \"\"\"\n",
    "\n",
    "        axes.plot(iterations, costs, label='cost')\n",
    "        axes.set_ylabel('Cost')\n",
    "        axes.set_xlabel('Iterations')\n",
    "        axes.set_title(\"Learning rate =\" + str(learning_rate))\n",
    "        axes.legend()\n",
    "\n",
    "    @staticmethod\n",
    "    def plot_decision_boundary(axes, Z: np.ndarray, X: np.ndarray, Y: np.ndarray):\n",
    "        \"\"\"\n",
    "        Plot the decision boundary of the model.\n",
    "\n",
    "        :param Z: Decision Function value for the whole grid.\n",
    "        :param X: Samples.\n",
    "        :param Y: Labels.\n",
    "        \"\"\"\n",
    "\n",
    "        # Initialize the hyperparameters\n",
    "        h = 0.01\n",
    "\n",
    "        # Set min and max values and give it some padding\n",
    "        x_min, x_max = X[0, :].min() - 1, X[0, :].max() + 1\n",
    "        y_min, y_max = X[1, :].min() - 1, X[1, :].max() + 1\n",
    "\n",
    "        # Generate a grid of points with distance h between them\n",
    "        xx, yy = np.meshgrid(np.arange(x_min, x_max, h), np.arange(y_min, y_max, h))\n",
    "\n",
    "        # Plot the decision boundary and training samples\n",
    "        axes.set_ylabel(\"Feature #1\")\n",
    "        axes.set_xlabel(\"Feature #0\")\n",
    "        axes.set_title(\"Decision Boundary of the Model\")\n",
    "\n",
    "        axes.contourf(xx, yy, Z, cmap=plt.cm.Spectral)\n",
    "        train_scatter = axes.scatter(X[0, :], X[1, :], c=Y, cmap=plt.cm.Spectral)\n",
    "\n",
    "        axes_legend = axes.legend(*train_scatter.legend_elements(), title=\"Classes\")\n",
    "        axes.add_artist(axes_legend)\n",
    "\n",
    "    @staticmethod\n",
    "    def plot_costs_and_decision_boundary(iterations: list, costs: list, learning_rate: float,\n",
    "                                         Z: np.ndarray, X: np.ndarray, Y: np.ndarray):\n",
    "        \"\"\"\n",
    "        Plot the cost of the network during training as well as the decision boundary of the model.\n",
    "\n",
    "        :param iterations: Training iterations.\n",
    "        :param costs: Costs of the network for each training iteration.\n",
    "        :param learning_rate: Learning rate of the optimization algorithm.\n",
    "        :param Z: Decision Function value for the whole grid.\n",
    "        :param X: Samples.\n",
    "        :param Y: Labels.\n",
    "        \"\"\"\n",
    "\n",
    "        # Create both plots\n",
    "        fig, (ax_costs, ax_decision) = plt.subplots(ncols=2, figsize=(16, 6))\n",
    "\n",
    "        # Plot the costs\n",
    "        Visualization.plot_the_cost(ax_costs, iterations, costs, learning_rate)\n",
    "\n",
    "        # Plot the decision boundary\n",
    "        Visualization.plot_decision_boundary(ax_decision, Z, X, Y)"
   ],
   "metadata": {
    "collapsed": false,
    "pycharm": {
     "name": "#%%\n"
    }
   }
  },
  {
   "cell_type": "markdown",
   "source": [],
   "metadata": {
    "collapsed": false
   }
  },
  {
   "cell_type": "markdown",
   "source": [
    "<a id='2'></a>\n",
    "## 2 - Gradient Descent \\[6 points\\] ##\n",
    "\n",
    "A simple optimization method in machine learning is gradient descent (GD). As we already know, gradient descent goes \"downhill\" on a cost function $J$. At each step of the training, we update our parameters following a certain direction to try to get to the lowest possible point:\n",
    "\n",
    "<div>\n",
    "<img src=\"../img/optimization/gradient_descent_01.png\" width=\"700\"/>\n",
    "</div>\n",
    "\n",
    "\n",
    "When we imagine the cost function not as a a mathematical function but as a hilly landscape instead, we can visualize the gradient descent process as finding the lowest point in this hilly landscape as this:\n",
    "\n",
    "<div>\n",
    "<img src=\"../img/optimization/gradient_descent_02.png\" width=\"700\"/>\n",
    "</div>\n",
    "\n",
    "Created with and licensed under [Adobe Express](https://www.adobe.com/de/express/)"
   ],
   "metadata": {
    "collapsed": false,
    "pycharm": {
     "name": "#%% md\n"
    }
   }
  },
  {
   "cell_type": "markdown",
   "source": [
    "<a id='2-1'></a>\n",
    "## 2.1 - Gradient Descent Update Rule \\[1 point\\] ##\n",
    "\n",
    "**Remember:**\n",
    "The gradient descent rule for $l = 1, ..., L$ is computed like:\n",
    "$$ W^{[l]} = W^{[l]} - \\alpha \\text{ } dW^{[l]}$$\n",
    "$$ b^{[l]} = b^{[l]} - \\alpha \\text{ } db^{[l]}$$\n",
    "\n",
    "<b><span style=\"color:teal\">TODO:</span> <b>\n",
    "<ol>\n",
    "<li><span style=\"color:teal\">Implement the method <span style=\"color:#DC143C\"><em>gradient_descent</em></span> which runs one step of the gradient descent algorithm to update the model's parameters.</span></li>\n",
    "</ol>"
   ],
   "metadata": {
    "collapsed": false,
    "pycharm": {
     "name": "#%% md\n"
    }
   }
  },
  {
   "cell_type": "code",
   "execution_count": null,
   "outputs": [],
   "source": [
    "def gradient_descent(parameters: dict, grads: dict, learning_rate: float):\n",
    "    \"\"\"\n",
    "    Update parameters using one step of gradient descent.\n",
    "\n",
    "    :param parameters: Dictionary containing the model parameters.\n",
    "    :param grads: Dictionary containing the gradients of the cost function with respect to the model parameters.\n",
    "    :param learning_rate: Learning rate for the gradient descent step.\n",
    "\n",
    "    :return: Dictionary containing the updated model parameters\n",
    "    \"\"\"\n",
    "\n",
    "    #############################################################################\n",
    "    #                            START OF YOUR CODE                             #\n",
    "    # TODO:                                                                     #\n",
    "    #    1) Iterate through all layers.                                         #\n",
    "    #    2) Update the weights of each layer.                                   #\n",
    "    #    3) Update the bias of each layer.                                      #\n",
    "    #############################################################################\n",
    "\n",
    "\n",
    "    #############################################################################\n",
    "    #                              END OF YOUR CODE                             #\n",
    "    #############################################################################\n",
    "    return parameters"
   ],
   "metadata": {
    "collapsed": false,
    "pycharm": {
     "name": "#%%\n"
    }
   }
  },
  {
   "cell_type": "code",
   "execution_count": null,
   "outputs": [],
   "source": [
    "# Test your code\n",
    "\n",
    "!python ./tests/test_optimization.py --test_case TestGradientDescent"
   ],
   "metadata": {
    "collapsed": false,
    "pycharm": {
     "name": "#%%\n"
    }
   }
  },
  {
   "cell_type": "markdown",
   "source": [],
   "metadata": {
    "collapsed": false
   }
  },
  {
   "cell_type": "markdown",
   "source": [
    "In Deep Learning we differentiate between 3 types of gradient descent, namely \"Stochastic Gradient Descent (SGD)\", \"Mini-batch Gradient Descent\", and \"Batch Gradient Descent\". The following table illustrates their differences:\n",
    "\n",
    "\n",
    "<div>\n",
    "<img src=\"../img/optimization/gradient_descent_comparison_chart.png\" width=\"1900\"/>\n",
    "</div>\n",
    "\n",
    "The update rule that you have just implemented does not change for the three types. What changes is the number of training samples you would be computing gradients at a time.\n",
    "\n",
    "**Remark:**\n",
    "- \"+\" denotes a minimum of the cost. SGD leads to many oscillations to reach convergence, but each step is a lot faster to compute for SGD than it is for GD, as it uses only one training example (vs. the whole batch for GD).\n",
    "- In practice, you'll often get faster results if you don't use the entire training set, or just one training sample, to perform each update.\n",
    "- Mini-batch gradient descent uses an intermediate number of samples for each step. With mini-batch gradient descent, you loop over the mini-batches instead of looping over individual training examples.\n",
    "- Using mini-batches in your optimization algorithm often leads to faster optimization."
   ],
   "metadata": {
    "collapsed": false,
    "pycharm": {
     "name": "#%% md\n"
    }
   }
  },
  {
   "cell_type": "markdown",
   "source": [
    "<a id='2-2'></a>\n",
    "## 2.2 - Stochastic Gradient Descent (SGD) ##\n",
    "\n",
    "As you can see, Stochastic Gradient Descent (SGD) is equivalent to mini-batch gradient descent, where each mini-batch has just 1 sample. This means that we use only 1 training sample before updating the gradients. When the training set is large, SGD can be faster than batch gradient descent. But the parameters will \"oscillate\" toward the minimum rather than converge smoothly.\n",
    "\n",
    "The code example below shows how you would train a network using SGD as the optimization method:\n",
    "\n",
    "```python\n",
    "X = data_input\n",
    "Y = labels\n",
    "m = X.shape[1]  # Number of training examples\n",
    "parameters = initialize_parameters(layers_dims)\n",
    "for i in range(0, num_iterations):\n",
    "    cost_total = 0\n",
    "    for j in range(0, m):\n",
    "        # Forward propagation\n",
    "        a, caches = forward_propagation(X[:,j], parameters)\n",
    "        # Compute cost\n",
    "        cost_total += compute_cost(a, Y[:,j])  # Cost for one training example\n",
    "        # Backward propagation\n",
    "        grads = backward_propagation(a, caches, parameters)\n",
    "        # Update parameters\n",
    "        parameters = update_parameters(parameters, grads)\n",
    "    # Compute average cost\n",
    "    cost_avg = cost_total / m\n",
    "```\n",
    "\n",
    "**Note** that implementing SGD requires 3 for-loops in total:\n",
    "1. Over the number of iterations\n",
    "2. Over the $m$ training samples\n",
    "3. Over the layers (to update all parameters, from $(W^{[1]},b^{[1]})$ to $(W^{[L]},b^{[L]})$)\n",
    "\n",
    "You don't have to code anything here.  This is just for your information."
   ],
   "metadata": {
    "collapsed": false,
    "pycharm": {
     "name": "#%% md\n"
    }
   }
  },
  {
   "cell_type": "markdown",
   "source": [
    "<a id='2-3'></a>\n",
    "## 2.3 - Batch Gradient Descent ##\n",
    "\n",
    "For comparisopn to SGD, the code example below shows how you would train a network using batch gradient descent as the optimization method:\n",
    "\n",
    "```python\n",
    "X = data_input\n",
    "Y = labels\n",
    "m = X.shape[1]  # Number of training examples\n",
    "parameters = initialize_parameters(layers_dims)\n",
    "for i in range(0, num_iterations):\n",
    "    # Forward propagation\n",
    "    a, caches = forward_propagation(X, parameters)\n",
    "    # Compute cost\n",
    "    cost_total = compute_cost(a, Y)  # Cost for m training examples\n",
    "    # Backward propagation\n",
    "    grads = backward_propagation(a, caches, parameters)\n",
    "    # Update parameters\n",
    "    parameters = update_parameters(parameters, grads)\n",
    "    # Compute average cost\n",
    "    cost_avg = cost_total / m\n",
    "```\n",
    "\n",
    "Again you don't have to code anything here. This is just for your information."
   ],
   "metadata": {
    "collapsed": false,
    "pycharm": {
     "name": "#%% md\n"
    }
   }
  },
  {
   "cell_type": "markdown",
   "source": [
    "<a id='2-4'></a>\n",
    "## 2.4 - Mini-Batch Gradient Descent \\[5 points\\] ##\n",
    "\n",
    "Mini-batch gradient descent seems promising, so let's try out! First, you will build some mini-batches from the training set (X, Y).\n",
    "\n",
    "To do that, there are two steps involved:\n",
    "- **Shuffle**: Create a shuffled version of the training set (X, Y) as shown below. Each column of X and Y represents a training example. Note that the random shuffling is done synchronously between X and Y. Such that after the shuffling the $i^{th}$ column of X is the example corresponding to the $i^{th}$ label in Y. The shuffling step ensures that examples will be split randomly into different mini-batches.\n",
    "\n",
    "<div>\n",
    "<img src=\"../img/optimization/mini_batch_gd_01.png\" width=\"700\"/>\n",
    "</div>\n",
    "\n",
    "- **Partition**: Partition the shuffled (X, Y) into mini-batches of size `mini_batch_size` (here 64). Note that the number of training examples is not always divisible by `mini_batch_size`. The last mini batch might be smaller, but you don't need to worry about this. When the final mini-batch is smaller than the full `mini_batch_size`, it will look like this:\n",
    "\n",
    "<div>\n",
    "<img src=\"../img/optimization/mini_batch_gd_02.png\" width=\"700\"/>\n",
    "</div>\n",
    "\n",
    "\n",
    "<b><span style=\"color:teal\">TODO:</span> <b>\n",
    "<ol>\n",
    "<li><span style=\"color:teal\">Implement the method <span style=\"color:#DC143C\"><em>shuffle</em></span> which shuffles the input samples (X) and labels (Y).</span></li>\n",
    "<li><span style=\"color:teal\">Implement the method <span style=\"color:#DC143C\"><em>random_mini_batches</em></span> which creates a list of random minibatches from the input (X, Y).</span></li>\n",
    "</ol>\n",
    "\n",
    "<b><span style=\"color:#B8860B\">Hints:</span> <b>\n",
    "<dl>\n",
    "<dd><span style=\"color:#B8860B\">1. Note that the last mini-batch might end up being smaller than the rest depending on the total number of samples provided. This has to be taken into consideration.</span></dd>\n",
    "</dl>"
   ],
   "metadata": {
    "collapsed": false,
    "pycharm": {
     "name": "#%% md\n"
    }
   }
  },
  {
   "cell_type": "code",
   "execution_count": null,
   "outputs": [],
   "source": [
    "def shuffle(X: np.ndarray, Y: np.ndarray, seed: int):\n",
    "    \"\"\"\n",
    "    Shuffle the input samples and labels randomly.\n",
    "\n",
    "    :param X: Input data of shape (input size, number of samples).\n",
    "    :param Y: Label vector of shape (1, number of samples).\n",
    "    :param seed: Seed for the random operation(s).\n",
    "\n",
    "    :return: Shuffled input samples, shuffled labels\n",
    "    \"\"\"\n",
    "\n",
    "    shuffled_X, shuffled_Y = None, None\n",
    "\n",
    "    #############################################################################\n",
    "    #                            START OF YOUR CODE                             #\n",
    "    # TODO:                                                                     #\n",
    "    #    1) Create a \"random\" permutation by using np.random.permutation()      #\n",
    "    #       - Remember to use the seed such that your results match ours.       #\n",
    "    #    2) Shuffle X using the created permutation.                            #\n",
    "    #    3) Shuffle Y using the created permutation.                            #\n",
    "    #    4) Reshape Y to obtain its original shape.                             #\n",
    "    #############################################################################\n",
    "\n",
    "\n",
    "    #############################################################################\n",
    "    #                              END OF YOUR CODE                             #\n",
    "    #############################################################################\n",
    "\n",
    "    return shuffled_X, shuffled_Y\n",
    "\n",
    "\n",
    "def random_mini_batches(X: np.ndarray, Y: np.ndarray, mini_batch_size=64, seed=0):\n",
    "    \"\"\"\n",
    "    Creates a list of random minibatches from (X, Y).\n",
    "\n",
    "    :param X: Input data of shape (input size, number of samples).\n",
    "    :param Y: Label vector of shape (1, number of samples).\n",
    "    :param mini_batch_size: Size of the mini-batches.\n",
    "    :param seed: Seed for the random operation(s).\n",
    "\n",
    "    :return: List of synchronous (mini_batch_X, mini_batch_Y)\n",
    "    \"\"\"\n",
    "\n",
    "    mini_batches = []\n",
    "\n",
    "    #############################################################################\n",
    "    #                            START OF YOUR CODE                             #\n",
    "    # TODO:                                                                     #\n",
    "    #    1) Use the upper shuffle-method to shuffle your input data and labels. #\n",
    "    #                                                                           #\n",
    "    #    2) For all \"full\" mini-batches:                                        #\n",
    "    #       2.1) Extract the samples for the current mini-batch from the        #\n",
    "    #            shuffled input data.                                           #\n",
    "    #       2.2) Extract the labels for the current mini-batch from the         #\n",
    "    #            shuffled labels.                                               #\n",
    "    #       2.3) Create the current minibatch as (mini_batch_X, mini_batch_Y).  #\n",
    "    #       2.4) Append the current mini-batch to the list of mini-batches.     #\n",
    "    #                                                                           #\n",
    "    #    3) Handle the case when the last mini-batch might end up being smaller #\n",
    "    #       (e.g. size < 64) than the rest and append it to the list of         #\n",
    "    #       mini-batches.                                                       #\n",
    "    #############################################################################\n",
    "\n",
    "\n",
    "    #############################################################################\n",
    "    #                              END OF YOUR CODE                             #\n",
    "    #############################################################################\n",
    "\n",
    "    return mini_batches"
   ],
   "metadata": {
    "collapsed": false,
    "pycharm": {
     "name": "#%%\n"
    }
   }
  },
  {
   "cell_type": "code",
   "execution_count": null,
   "outputs": [],
   "source": [
    "# Test your code\n",
    "\n",
    "!python ./tests/test_optimization.py --test_case TestShuffling\n",
    "!python ./tests/test_optimization.py --test_case TestMiniBatches"
   ],
   "metadata": {
    "collapsed": false,
    "pycharm": {
     "name": "#%%\n"
    }
   }
  },
  {
   "cell_type": "markdown",
   "source": [],
   "metadata": {
    "collapsed": false
   }
  },
  {
   "cell_type": "markdown",
   "source": [
    "**What you should remember**:\n",
    "- Shuffling and Partitioning are the two steps required to build mini-batches\n",
    "- Powers of two are often chosen to be the mini-batch size, e.g., 16, 32, 64, 128."
   ],
   "metadata": {
    "collapsed": false,
    "pycharm": {
     "name": "#%% md\n"
    }
   }
  },
  {
   "cell_type": "markdown",
   "source": [
    "<a id='3'></a>\n",
    "## 3 - Momentum \\[6 points\\] ##\n",
    "\n",
    "Because mini-batch gradient descent makes a parameter update after seeing just a subset of examples, the direction of the update has some variance, and so the path taken by mini-batch gradient descent will \"oscillate\" toward convergence. Using momentum can reduce these oscillations.\n",
    "\n",
    "Momentum takes into account the past gradients to smooth out the update. The 'direction' of the previous gradients is stored in the variable $v$. Formally, this will be the exponentially weighted average of the gradient on previous steps. You can also think of $v$ as the \"velocity\" of a ball rolling downhill, building up speed (and momentum) according to the direction of the gradient/slope of the hill.\n",
    "\n",
    "<div>\n",
    "<img src=\"../img/optimization/momentum_01.png\" width=\"700\"/>\n",
    "</div>\n",
    "\n",
    "In the figure above, the red arrows show the direction taken by one step of mini-batch gradient descent with momentum. The blue points show the direction of the gradient (with respect to the current mini-batch) on each step. Rather than just following the gradient, the gradient is allowed to influence $v$ and then take a step in the direction of $v$."
   ],
   "metadata": {
    "collapsed": false,
    "pycharm": {
     "name": "#%% md\n"
    }
   }
  },
  {
   "cell_type": "markdown",
   "source": [
    "<a id='3-1'></a>\n",
    "## 3.1 - Initialize the Velocity $v$ \\[2 points\\] ##\n",
    "\n",
    "Let's initialize the velocity $(v)$. The velocity is a python dictionary that needs to be initialized with arrays of zeros. Its keys are the same as those in the `grads` dictionary, that is:\n",
    "for $l =1,...,L$:\n",
    "```python\n",
    "v[\"dW\" + str(l)] = ... #(numpy array of zeros with the same shape as parameters[\"W\" + str(l)])\n",
    "v[\"db\" + str(l)] = ... #(numpy array of zeros with the same shape as parameters[\"b\" + str(l)])\n",
    "```\n",
    "\n",
    "<b><span style=\"color:teal\">TODO:</span> <b>\n",
    "<ol>\n",
    "<li><span style=\"color:teal\">Implement the method <span style=\"color:#DC143C\"><em>initialize_velocity</em></span> which initializes the velocity as a python dictionary.</span></li>\n",
    "</ol>"
   ],
   "metadata": {
    "collapsed": false,
    "pycharm": {
     "name": "#%% md\n"
    }
   }
  },
  {
   "cell_type": "code",
   "execution_count": null,
   "outputs": [],
   "source": [
    "def initialize_velocity(params: dict):\n",
    "    \"\"\"\n",
    "    Initializes the velocity v.\n",
    "\n",
    "    :param params: python dictionary containing your model parameters.\n",
    "                    parameters['W' + str(l)] = Wl\n",
    "                    parameters['b' + str(l)] = bl\n",
    "\n",
    "    :return: velocity which is a python dictionary containing the current velocity.\n",
    "                v['dW' + str(l)] = velocity of dWl\n",
    "                v['db' + str(l)] = velocity of dbl\n",
    "    \"\"\"\n",
    "\n",
    "    v = {}\n",
    "\n",
    "    #############################################################################\n",
    "    #                            START OF YOUR CODE                             #\n",
    "    # TODO:                                                                     #\n",
    "    #    1) Iterate through all layers.                                         #\n",
    "    #    2) Initialize the velocity in the weight direction of each layer with  #\n",
    "    #       zeros.                                                              #\n",
    "    #    3) Initialize the velocity in the bias direction of each layer with    #\n",
    "    #       zeros.                                                              #\n",
    "    #############################################################################\n",
    "\n",
    "\n",
    "    #############################################################################\n",
    "    #                              END OF YOUR CODE                             #\n",
    "    #############################################################################\n",
    "\n",
    "    return v"
   ],
   "metadata": {
    "collapsed": false,
    "pycharm": {
     "name": "#%%\n"
    }
   }
  },
  {
   "cell_type": "code",
   "execution_count": null,
   "outputs": [],
   "source": [
    "# Test your code\n",
    "\n",
    "!python ./tests/test_optimization.py --test_case TestInitializingVelocity"
   ],
   "metadata": {
    "collapsed": false,
    "pycharm": {
     "name": "#%%\n"
    }
   }
  },
  {
   "cell_type": "markdown",
   "source": [],
   "metadata": {
    "collapsed": false
   }
  },
  {
   "cell_type": "markdown",
   "source": [
    "<a id='3-2'></a>\n",
    "## 3.2 - Update the Model's Parameters with Momentum \\[4 points\\] ##\n",
    "\n",
    "Now, implement the parameters update with momentum. The momentum update rule is, for $l = 1, ..., L$:\n",
    "\n",
    "\\begin{align}\n",
    "v_{dW^{[l]}} &= \\beta v_{dW^{[l]}} + (1 - \\beta) dW^{[l]} \\\\\n",
    "W^{[l]} &= W^{[l]} - \\alpha v_{dW^{[l]}}\n",
    "\\end{align}\n",
    "\n",
    "\\begin{align}\n",
    "v_{db^{[l]}} &= \\beta v_{db^{[l]}} + (1 - \\beta) db^{[l]} \\\\\n",
    "b^{[l]} &= b^{[l]} - \\alpha v_{db^{[l]}}\n",
    "\\end{align}\n",
    "\n",
    "where L is the number of layers, $\\beta$ is the momentum and $\\alpha$ is the learning rate.\n",
    "\n",
    "<b><span style=\"color:teal\">TODO:</span> <b>\n",
    "<ol>\n",
    "<li><span style=\"color:teal\">Implement the method <span style=\"color:#DC143C\"><em>update_parameters_with_momentum</em></span> which updates the model parameters using Momentum.</span></li>\n",
    "</ol>"
   ],
   "metadata": {
    "collapsed": false,
    "pycharm": {
     "name": "#%% md\n"
    }
   }
  },
  {
   "cell_type": "code",
   "execution_count": null,
   "outputs": [],
   "source": [
    "def update_parameters_with_momentum(params: dict, grads: dict, v: dict, beta: float, learning_rate: float):\n",
    "    \"\"\"\n",
    "    Update model parameters using Momentum.\n",
    "\n",
    "    :param params: python dictionary containing your parameters\n",
    "                    parameters['W' + str(l)] = Wl\n",
    "                    parameters['b' + str(l)] = bl\n",
    "    :param grads: python dictionary containing your gradients for each parameters:\n",
    "                    grads['dW' + str(l)] = dWl\n",
    "                    grads['db' + str(l)] = dbl\n",
    "    :param v: python dictionary containing the current velocity:\n",
    "                    v['dW' + str(l)] = velocity of dWl\n",
    "                    v['db' + str(l)] = velocity of dbl\n",
    "    :param beta: The momentum.\n",
    "    :param learning_rate: The learning rate.\n",
    "\n",
    "    :return: updated model parameters, updated velocities\n",
    "    \"\"\"\n",
    "\n",
    "    updated_params, updated_v = params, v\n",
    "\n",
    "    #############################################################################\n",
    "    #                            START OF YOUR CODE                             #\n",
    "    # TODO:                                                                     #\n",
    "    #    1) Iterate through all layers.                                         #\n",
    "    #    2) Update the velocities using the equations above.                    #\n",
    "    #    3) Update the model parameters using the equations above.              #\n",
    "    #############################################################################\n",
    "\n",
    "\n",
    "    #############################################################################\n",
    "    #                              END OF YOUR CODE                             #\n",
    "    #############################################################################\n",
    "\n",
    "    return updated_params, updated_v"
   ],
   "metadata": {
    "collapsed": false,
    "pycharm": {
     "name": "#%%\n"
    }
   }
  },
  {
   "cell_type": "code",
   "execution_count": null,
   "outputs": [],
   "source": [
    "# Test your code\n",
    "\n",
    "!python ./tests/test_optimization.py --test_case TestMomentum"
   ],
   "metadata": {
    "collapsed": false,
    "pycharm": {
     "name": "#%%\n"
    }
   }
  },
  {
   "cell_type": "markdown",
   "source": [],
   "metadata": {
    "collapsed": false
   }
  },
  {
   "cell_type": "markdown",
   "source": [
    "**Note that**:\n",
    "- The velocity is initialized with zeros. So the algorithm will take a few iterations to \"build up\" velocity and start to take bigger steps.\n",
    "- If $\\beta = 0$, then this just becomes standard gradient descent without momentum.\n",
    "\n",
    "**How do you choose $\\beta$?**\n",
    "\n",
    "- The larger the momentum $\\beta$ is, the smoother the update, because it takes the past gradients into account more. But if $\\beta$ is too big, it could also smooth out the updates too much.\n",
    "- Common values for $\\beta$ range from 0.8 to 0.999. If you don't feel inclined to tune this, $\\beta = 0.9$ is often a reasonable default.\n",
    "- Tuning the optimal $\\beta$ for your model might require trying several values to see what works best in terms of reducing the value of the cost function $J$.\n",
    "\n",
    "**What you should remember**:\n",
    "- Momentum takes past gradients into account to smooth out the steps of gradient descent. It can be applied with batch gradient descent, mini-batch gradient descent or stochastic gradient descent.\n",
    "- You have to tune a momentum hyperparameter $\\beta$ and a learning rate $\\alpha$."
   ],
   "metadata": {
    "collapsed": false,
    "pycharm": {
     "name": "#%% md\n"
    }
   }
  },
  {
   "cell_type": "markdown",
   "source": [
    "<a id='4'></a>\n",
    "## 4 - Adam \\[6 points\\] ##\n",
    "\n",
    "[Adam](https://arxiv.org/pdf/1412.6980.pdf) is one of the most effective optimization algorithms for training neural networks. It combines ideas from [RMSProp and Momentum](https://blog.paperspace.com/intro-to-optimization-momentum-rmsprop-adam/).\n",
    "\n",
    "**How does Adam work?**\n",
    "1. It calculates an exponentially weighted average of past gradients, and stores it in variables $v$ (before bias correction) and $v^{corrected}$ (with bias correction).\n",
    "2. It calculates an exponentially weighted average of the squares of the past gradients, and  stores it in variables $s$ (before bias correction) and $s^{corrected}$ (with bias correction).\n",
    "3. It updates parameters in a direction based on combining information from \"1\" and \"2\".\n",
    "\n",
    "The update rule is, for $l = 1, ..., L$:\n",
    "\n",
    "\\begin{align}\n",
    "v_{dW^{[l]}} &= \\beta_1 v_{dW^{[l]}} + (1 - \\beta_1) \\frac{\\partial \\mathcal{J} }{ \\partial W^{[l]} } \\\\\n",
    "v^{corrected}_{dW^{[l]}} &= \\frac{v_{dW^{[l]}}}{1 - (\\beta_1)^t} \\\\\n",
    "s_{dW^{[l]}} &= \\beta_2 s_{dW^{[l]}} + (1 - \\beta_2) (\\frac{\\partial \\mathcal{J} }{\\partial W^{[l]} })^2 \\\\\n",
    "s^{corrected}_{dW^{[l]}} &= \\frac{s_{dW^{[l]}}}{1 - (\\beta_2)^t} \\\\\n",
    "W^{[l]} &= W^{[l]} - \\alpha \\frac{v^{corrected}_{dW^{[l]}}}{\\sqrt{s^{corrected}_{dW^{[l]}}} + \\varepsilon}\n",
    "\\end{align}\n",
    "\n",
    "where:\n",
    "- t counts the number of steps taken of Adam\n",
    "- L is the number of layers\n",
    "- $\\beta_1$ and $\\beta_2$ are hyperparameters that control the two exponentially weighted averages.\n",
    "- $\\alpha$ is the learning rate\n",
    "- $\\varepsilon$ is a very small number to avoid dividing by zero\n",
    "\n",
    "Similar to gradient descent with momentum, we can visualize the process of mini-batch gradient descent with adam as the following:\n",
    "\n",
    "<div>\n",
    "<img src=\"../img/optimization/adam_01.png\" width=\"700\"/>\n",
    "</div>\n",
    "\n",
    "In the figure above, the red arrows show the direction taken by one step of mini-batch gradient descent with adam. The blue points show the direction of first momentum $v$ (exponentially weighted average of past gradients) with respect to the current mini-batch on each step. In contrast, The red points show the direction of the second momentum $s$ (exponentially weighted average of the squares of the past gradients) with respect to the current mini-batch on each step. Rather than just following the gradient, both momentum are allowed to the direction of the next gradient descent step."
   ],
   "metadata": {
    "collapsed": false,
    "pycharm": {
     "name": "#%% md\n"
    }
   }
  },
  {
   "cell_type": "markdown",
   "source": [
    "<a id='4-1'></a>\n",
    "## 4.1 - Initialize Adam \\[2 points\\] ##\n",
    "\n",
    "Let's initialize the Adam variables $v$ (moving average of the first gradient) and $s$ (moving average of the squared gradient), which keep track of the past information.\n",
    "\n",
    "<b><span style=\"color:teal\">TODO:</span> <b>\n",
    "<ol>\n",
    "<li><span style=\"color:teal\">Implement the method <span style=\"color:#DC143C\"><em>initialize_adam</em></span> which initializes the variables $v$ and $s$ for the Adam optimization algorithm with zeros.</span></li>\n",
    "</ol>"
   ],
   "metadata": {
    "collapsed": false,
    "pycharm": {
     "name": "#%% md\n"
    }
   }
  },
  {
   "cell_type": "code",
   "execution_count": null,
   "outputs": [],
   "source": [
    "def initialize_adam(params) :\n",
    "    \"\"\"\n",
    "    Initializes v and s as two python dictionaries with:\n",
    "        - keys: \"dW1\", \"db1\", ..., \"dWL\", \"dbL\"\n",
    "        - values: numpy arrays of zeros of the same shape as the corresponding gradients/parameters.\n",
    "\n",
    "    :param params: python dictionary containing your parameters\n",
    "                    parameters['W' + str(l)] = Wl\n",
    "                    parameters['b' + str(l)] = bl\n",
    "\n",
    "    :return:    v -- python dictionary that will contain the exponentially weighted average of the gradient. Initialized with zeros.\n",
    "                    v[\"dW\" + str(l)] = ...\n",
    "                    v[\"db\" + str(l)] = ...\n",
    "                s -- python dictionary that will contain the exponentially weighted average of the squared gradient. Initialized with zeros.\n",
    "                    s[\"dW\" + str(l)] = ...\n",
    "                    s[\"db\" + str(l)] = ...\n",
    "    \"\"\"\n",
    "\n",
    "    v, s = {}, {}\n",
    "\n",
    "    #############################################################################\n",
    "    #                            START OF YOUR CODE                             #\n",
    "    # TODO:                                                                     #\n",
    "    #    1) Iterate through all layers.                                         #\n",
    "    #    2) Initialize the entries of v for each layer as zeros with the        #\n",
    "    #       respective shape.                                                   #\n",
    "    #    3) Initialize the entries of s for each layer as zeros with the        #\n",
    "    #       respective shape.                                                   #\n",
    "    #############################################################################\n",
    "\n",
    "\n",
    "    #############################################################################\n",
    "    #                              END OF YOUR CODE                             #\n",
    "    #############################################################################\n",
    "\n",
    "    return v, s"
   ],
   "metadata": {
    "collapsed": false,
    "pycharm": {
     "name": "#%%\n"
    }
   }
  },
  {
   "cell_type": "code",
   "execution_count": null,
   "outputs": [],
   "source": [
    "# Test your code\n",
    "\n",
    "!python ./tests/test_optimization.py --test_case TestInitializingAdam"
   ],
   "metadata": {
    "collapsed": false,
    "pycharm": {
     "name": "#%%\n"
    }
   }
  },
  {
   "cell_type": "markdown",
   "source": [],
   "metadata": {
    "collapsed": false
   }
  },
  {
   "cell_type": "markdown",
   "source": [
    "<a id='4-2'></a>\n",
    "## 4.2 - Update Parameters using Adam \\[4 points\\] ##\n",
    "\n",
    "Now, implement the parameters update with Adam. Recall the general update rule is, for $l = 1, ..., L$:\n",
    "\n",
    "\\begin{align}\n",
    "v_{dW^{[l]}} &= \\beta_1 v_{dW^{[l]}} + (1 - \\beta_1) \\frac{\\partial \\mathcal{J} }{ \\partial W^{[l]} } \\\\\n",
    "v_{db^{[l]}} &= \\beta_1 v_{db^{[l]}} + (1 - \\beta_1) \\frac{\\partial \\mathcal{J} }{ \\partial b^{[l]} } \\\\\n",
    "v^{corrected}_{dW^{[l]}} &= \\frac{v_{dW^{[l]}}}{1 - (\\beta_1)^t} \\\\\n",
    "v^{corrected}_{db^{[l]}} &= \\frac{v_{db^{[l]}}}{1 - (\\beta_1)^t} \\\\\n",
    "s_{dW^{[l]}} &= \\beta_2 s_{dW^{[l]}} + (1 - \\beta_2) (\\frac{\\partial \\mathcal{J} }{\\partial W^{[l]} })^2 \\\\\n",
    "s_{db^{[l]}} &= \\beta_2 s_{db^{[l]}} + (1 - \\beta_2) (\\frac{\\partial \\mathcal{J} }{\\partial b^{[l]} })^2 \\\\\n",
    "s^{corrected}_{dW^{[l]}} &= \\frac{s_{dW^{[l]}}}{1 - (\\beta_2)^t} \\\\\n",
    "s^{corrected}_{db^{[l]}} &= \\frac{s_{db^{[l]}}}{1 - (\\beta_2)^t} \\\\\n",
    "W^{[l]} &= W^{[l]} - \\alpha \\frac{v^{corrected}_{dW^{[l]}}}{\\sqrt{s^{corrected}_{dW^{[l]}}} + \\varepsilon} \\\\\n",
    "b^{[l]} &= b^{[l]} - \\alpha \\frac{v^{corrected}_{db^{[l]}}}{\\sqrt{s^{corrected}_{db^{[l]}}} + \\varepsilon} \\\\\n",
    "\\end{align}\n",
    "\n",
    "<b><span style=\"color:teal\">TODO:</span> <b>\n",
    "<ol>\n",
    "<li><span style=\"color:teal\">Implement the method <span style=\"color:#DC143C\"><em>update_parameters_with_adam</em></span> which updates the model parameters using Adam and stores the updated first and second moments for a next iteration.</span></li>\n",
    "</ol>"
   ],
   "metadata": {
    "collapsed": false,
    "pycharm": {
     "name": "#%% md\n"
    }
   }
  },
  {
   "cell_type": "code",
   "execution_count": null,
   "outputs": [],
   "source": [
    "def update_parameters_with_adam(params, grads, v, s, t, learning_rate = 0.01, beta1 = 0.9, beta2 = 0.999,  epsilon = 1e-8):\n",
    "    \"\"\"\n",
    "    Update model parameters using Adam.\n",
    "\n",
    "    :param params: python dictionary containing your parameters\n",
    "                    parameters['W' + str(l)] = Wl\n",
    "                    parameters['b' + str(l)] = bl\n",
    "    :param grads: python dictionary containing your gradients for each parameters:\n",
    "                    grads['dW' + str(l)] = dWl\n",
    "                    grads['db' + str(l)] = dbl\n",
    "    :param v: Adam variable (moving average of the first gradient).\n",
    "    :param s: Adam variable (moving average of the squared gradient).\n",
    "    :param t: Adam variable (counts the number of taken steps).\n",
    "    :param beta1: Exponential decay hyperparameter for the first moment estimates.\n",
    "    :param beta2: Exponential decay hyperparameter for the second moment estimates.\n",
    "    :param epsilon: Hyperparameter preventing division by zero in Adam updates.\n",
    "    :param learning_rate: The learning rate.\n",
    "\n",
    "    :return: updated model parameters, updated v, updated s, bias corrected v, bias corrected s\n",
    "    \"\"\"\n",
    "\n",
    "    v_corrected, s_corrected = {}, {}\n",
    "\n",
    "    #############################################################################\n",
    "    #                            START OF YOUR CODE                             #\n",
    "    # TODO:                                                                     #\n",
    "    #    1) Iterate through all layers.                                         #\n",
    "    #                                                                           #\n",
    "    #    2) Compute the updated moving average of the gradients (v) for         #\n",
    "    #       the weights (v_dW) and the bias (v_db).                             #\n",
    "    #                                                                           #\n",
    "    #    3) Compute the bias-corrected first moment estimate (v_corrected) for  #\n",
    "    #       the weights (v_corrected_dW) and the bias (v_corrected_db).         #\n",
    "    #                                                                           #\n",
    "    #    4) Compute the updated moving average of the squared gradients (s)     #\n",
    "    #       for the weights (s_dW) and the bias (s_db).                         #\n",
    "    #                                                                           #\n",
    "    #    5) Compute the bias-corrected second raw moment estimate (s_corrected) #\n",
    "    #       for the weights (s_corrected_dW) and the bias (s_corrected_db).     #\n",
    "    #                                                                           #\n",
    "    #    6) Update the model parameters using the previously updated variables. #\n",
    "    #############################################################################\n",
    "\n",
    "\n",
    "    #############################################################################\n",
    "    #                              END OF YOUR CODE                             #\n",
    "    #############################################################################\n",
    "    return params, v, s, v_corrected, s_corrected"
   ],
   "metadata": {
    "collapsed": false,
    "pycharm": {
     "name": "#%%\n"
    }
   }
  },
  {
   "cell_type": "code",
   "execution_count": null,
   "outputs": [],
   "source": [
    "# Test your code\n",
    "\n",
    "!python ./tests/test_optimization.py --test_case TestAdam"
   ],
   "metadata": {
    "collapsed": false,
    "pycharm": {
     "name": "#%%\n"
    }
   }
  },
  {
   "cell_type": "markdown",
   "source": [],
   "metadata": {
    "collapsed": false
   }
  },
  {
   "cell_type": "markdown",
   "source": [
    "<a name='5'></a>\n",
    "## 5 - Model with different Optimization algorithms\n",
    "\n",
    "You now have three working optimization algorithms (mini-batch gradient descent, Momentum, Adam). Let's implement a model with each of these optimizers and observe the difference.\n",
    "Below, you'll use the following \"moons\" dataset to test the different optimization methods. (The dataset is named \"moons\" because the data from each of the two classes looks a bit like a crescent-shaped moon.)"
   ],
   "metadata": {
    "collapsed": false,
    "pycharm": {
     "name": "#%% md\n"
    }
   }
  },
  {
   "cell_type": "code",
   "execution_count": null,
   "outputs": [],
   "source": [
    "def load_dataset():\n",
    "    \"\"\"\n",
    "    Load the sample \"moons\" dataset of sklearn.\n",
    "\n",
    "    :return: samples, labels\n",
    "    \"\"\"\n",
    "    np.random.seed(3)\n",
    "\n",
    "    train_X, train_Y = sklearn.datasets.make_moons(n_samples=300, noise=.2) #300 #0.2\n",
    "\n",
    "    # Visualize the data\n",
    "    plt.scatter(train_X[:, 0], train_X[:, 1], c=train_Y, s=40, cmap=plt.cm.Spectral)\n",
    "\n",
    "    train_X = train_X.T\n",
    "    train_Y = train_Y.reshape((1, train_Y.shape[0]))\n",
    "\n",
    "    return train_X, train_Y\n",
    "\n",
    "# Load the dataset\n",
    "train_X, train_Y = load_dataset()"
   ],
   "metadata": {
    "collapsed": false,
    "pycharm": {
     "name": "#%%\n"
    }
   }
  },
  {
   "cell_type": "markdown",
   "source": [],
   "metadata": {
    "collapsed": false
   }
  },
  {
   "cell_type": "markdown",
   "source": [
    "A 3-layer neural network has already been implemented for you that was trained with:\n",
    "- Mini-batch **Gradient Descent**\n",
    "- Mini-batch **Momentum**\n",
    "- Mini-batch **Adam**"
   ],
   "metadata": {
    "collapsed": false,
    "pycharm": {
     "name": "#%% md\n"
    }
   }
  },
  {
   "cell_type": "markdown",
   "source": [
    "<a name='5-1'></a>\n",
    "### 5.1 - Mini-Batch Gradient Descent\n",
    "\n",
    "Run the following code to see how the model does with mini-batch gradient descent."
   ],
   "metadata": {
    "collapsed": false,
    "pycharm": {
     "name": "#%% md\n"
    }
   }
  },
  {
   "cell_type": "code",
   "execution_count": null,
   "outputs": [],
   "source": [
    "# Extract the data\n",
    "with open(\"../data/optimization.pkl\", \"rb\") as f:\n",
    "    data = pickle.load(f)\n",
    "\n",
    "learning_rate = data[\"gradient descent\"][\"learning_rate\"]\n",
    "iterations = data[\"gradient descent\"][\"iterations\"]\n",
    "costs = data[\"gradient descent\"][\"costs\"]\n",
    "decision = data[\"gradient descent\"][\"decision\"]\n",
    "\n",
    "# Plot the cost over the first 5000 iterations as well as the decision boundary of our model\n",
    "Visualization.plot_costs_and_decision_boundary(iterations, costs, learning_rate, decision, train_X, train_Y)\n",
    "\n",
    "# Print the accuracy of the model\n",
    "accuracy = data[\"gradient descent\"][\"accuracy\"]\n",
    "print (\"Accuracy of the model: \", accuracy)"
   ],
   "metadata": {
    "collapsed": false,
    "pycharm": {
     "name": "#%%\n"
    }
   }
  },
  {
   "cell_type": "markdown",
   "source": [],
   "metadata": {
    "collapsed": false
   }
  },
  {
   "cell_type": "markdown",
   "source": [
    "<a name='5-2'></a>\n",
    "### 5.2 - Mini-Batch Gradient Descent with Momentum\n",
    "\n",
    "Next, run the following code to see how the model does with momentum. Because this example is relatively simple, the gains from using momemtum are small - but for more complex problems you might see bigger gains."
   ],
   "metadata": {
    "collapsed": false,
    "pycharm": {
     "name": "#%% md\n"
    }
   }
  },
  {
   "cell_type": "code",
   "execution_count": null,
   "outputs": [],
   "source": [
    "# Extract the data\n",
    "with open(\"../data/optimization.pkl\", \"rb\") as f:\n",
    "    data = pickle.load(f)\n",
    "\n",
    "learning_rate = data[\"momentum\"][\"learning_rate\"]\n",
    "iterations = data[\"momentum\"][\"iterations\"]\n",
    "costs = data[\"momentum\"][\"costs\"]\n",
    "decision = data[\"momentum\"][\"decision\"]\n",
    "\n",
    "# Plot the cost over the first 5000 iterations as well as the decision boundary of our model\n",
    "Visualization.plot_costs_and_decision_boundary(iterations, costs, learning_rate, decision, train_X, train_Y)\n",
    "\n",
    "# Print the accuracy of the model\n",
    "accuracy = data[\"momentum\"][\"accuracy\"]\n",
    "print (\"Accuracy of the model: \", accuracy)"
   ],
   "metadata": {
    "collapsed": false,
    "pycharm": {
     "name": "#%%\n"
    }
   }
  },
  {
   "cell_type": "markdown",
   "source": [],
   "metadata": {
    "collapsed": false
   }
  },
  {
   "cell_type": "markdown",
   "source": [
    "<a name='5-3'></a>\n",
    "### 5.3 - Mini-Batch with Adam\n",
    "\n",
    "Finally, run the following code to see how the model does with Adam."
   ],
   "metadata": {
    "collapsed": false,
    "pycharm": {
     "name": "#%% md\n"
    }
   }
  },
  {
   "cell_type": "code",
   "execution_count": null,
   "outputs": [],
   "source": [
    "# Extract the data\n",
    "with open(\"../data/optimization.pkl\", \"rb\") as f:\n",
    "    data = pickle.load(f)\n",
    "\n",
    "learning_rate = data[\"adam\"][\"learning_rate\"]\n",
    "iterations = data[\"adam\"][\"iterations\"]\n",
    "costs = data[\"adam\"][\"costs\"]\n",
    "decision = data[\"adam\"][\"decision\"]\n",
    "\n",
    "# Plot the cost over the first 5000 iterations as well as the decision boundary of our model\n",
    "Visualization.plot_costs_and_decision_boundary(iterations, costs, learning_rate, decision, train_X, train_Y)\n",
    "\n",
    "# Print the accuracy of the model\n",
    "accuracy = data[\"adam\"][\"accuracy\"]\n",
    "print (\"Accuracy of the model: \", accuracy)"
   ],
   "metadata": {
    "collapsed": false,
    "pycharm": {
     "name": "#%%\n"
    }
   }
  },
  {
   "cell_type": "markdown",
   "source": [],
   "metadata": {
    "collapsed": false
   }
  },
  {
   "cell_type": "markdown",
   "source": [
    "<a name='5-4'></a>\n",
    "### 5.4 - Summary\n",
    "\n",
    "<table>\n",
    "    <tr>\n",
    "        <td>\n",
    "        <b>optimization method</b>\n",
    "        </td>\n",
    "        <td>\n",
    "        <b>accuracy</b>\n",
    "        </td>\n",
    "        <td>\n",
    "        <b>cost shape</b>\n",
    "        </td>\n",
    "    </tr>\n",
    "        <td>\n",
    "        Gradient descent\n",
    "        </td>\n",
    "        <td>\n",
    "        >71%\n",
    "        </td>\n",
    "        <td>\n",
    "        smooth\n",
    "        </td>\n",
    "    <tr>\n",
    "        <td>\n",
    "        Momentum\n",
    "        </td>\n",
    "        <td>\n",
    "        >71%\n",
    "        </td>\n",
    "        <td>\n",
    "        smooth\n",
    "        </td>\n",
    "    </tr>\n",
    "    <tr>\n",
    "        <td>\n",
    "        Adam\n",
    "        </td>\n",
    "        <td>\n",
    "        >94%\n",
    "        </td>\n",
    "        <td>\n",
    "        smoother\n",
    "        </td>\n",
    "    </tr>\n",
    "</table>\n",
    "\n",
    "Momentum usually helps, but given the small learning rate and the simplistic dataset, its impact is almost negligible.\n",
    "\n",
    "On the other hand, Adam clearly outperforms mini-batch gradient descent and Momentum. If you run the model for more epochs on this simple dataset, all three methods will lead to very good results. However, you've seen that Adam converges a lot faster.\n",
    "\n",
    "Some advantages of Adam include:\n",
    "\n",
    "- Relatively low memory requirements (though higher than gradient descent and gradient descent with momentum)\n",
    "- Usually works well even with little tuning of hyperparameters (except $\\alpha$)"
   ],
   "metadata": {
    "collapsed": false,
    "pycharm": {
     "name": "#%% md\n"
    }
   }
  },
  {
   "cell_type": "markdown",
   "source": [
    "<a name='6'></a>\n",
    "## 6 - Learning Rate Decay and Scheduling \\[2 points\\]\n",
    "\n",
    "Lastly, the learning rate is another hyperparameter that can help you speed up learning.\n",
    "\n",
    "During the first part of training, your model can get away with taking large steps, but over time, using a fixed value for the learning rate alpha can cause your model to get stuck in a wide oscillation that never quite converges. But if you were to slowly reduce your learning rate alpha over time, you could then take smaller, slower steps that bring you closer to the minimum. This is the idea behind learning rate decay.\n",
    "\n",
    "Learning rate decay can be achieved by using either adaptive methods or pre-defined learning rate schedules.\n",
    "\n",
    "Now, you'll apply scheduled learning rate decay to a 3-layer neural network in three different optimizer modes and see how each one differs, as well as the effect of scheduling at different epochs.\n",
    "\n",
    "This model is essentially the same as the one you used before, except that now learning rate decay was included during training. Hence, the model includes two new parameters, $\\textit{decay}$ and $\\textit{decay_rate}$."
   ],
   "metadata": {
    "collapsed": false,
    "pycharm": {
     "name": "#%% md\n"
    }
   }
  },
  {
   "cell_type": "markdown",
   "source": [
    "<a name='6-1'></a>\n",
    "### 6.1 - Decay on Every Iteration \\[1 point\\]\n",
    "\n",
    "For this part, you'll try one of the pre-defined schedules for learning rate decay, called exponential learning rate decay. It takes this mathematical form:\n",
    "\n",
    "$$\\alpha = \\frac{1}{1 + decayRate \\times epochNumber} \\alpha_{0}$$\n",
    "\n",
    "\n",
    "<b><span style=\"color:teal\">TODO:</span> <b>\n",
    "<ol>\n",
    "<li><span style=\"color:teal\">Implement the method <span style=\"color:#DC143C\"><em>update_lr</em></span> which updates the learning rate using exponential weight decay.</span></li>\n",
    "</ol>"
   ],
   "metadata": {
    "collapsed": false,
    "pycharm": {
     "name": "#%% md\n"
    }
   }
  },
  {
   "cell_type": "code",
   "execution_count": null,
   "outputs": [],
   "source": [
    "def update_lr(learning_rate_0rig: float, epoch_num: int, decay_rate: float):\n",
    "    \"\"\"\n",
    "    Update the learning rate using exponential learning rate decay.\n",
    "\n",
    "    :param learning_rate_0rig: Original learning rate.\n",
    "    :param epoch_num: Epoch number.\n",
    "    :param decay_rate: Decay rate.\n",
    "\n",
    "    :return: updated learning rate\n",
    "    \"\"\"\n",
    "\n",
    "    updated_lr = None\n",
    "\n",
    "    #############################################################################\n",
    "    #                            START OF YOUR CODE                             #\n",
    "    # TODO:                                                                     #\n",
    "    #    1) Update the learning rate using the given equation.                  #\n",
    "    #############################################################################\n",
    "\n",
    "\n",
    "    #############################################################################\n",
    "    #                              END OF YOUR CODE                             #\n",
    "    #############################################################################\n",
    "\n",
    "    return updated_lr"
   ],
   "metadata": {
    "collapsed": false,
    "pycharm": {
     "name": "#%%\n"
    }
   }
  },
  {
   "cell_type": "code",
   "execution_count": null,
   "outputs": [],
   "source": [
    "# Test your code\n",
    "\n",
    "!python ./tests/test_optimization.py --test_case TestExponentialWeightDecay"
   ],
   "metadata": {
    "collapsed": false,
    "pycharm": {
     "name": "#%%\n"
    }
   }
  },
  {
   "cell_type": "markdown",
   "source": [],
   "metadata": {
    "collapsed": false
   }
  },
  {
   "cell_type": "markdown",
   "source": [
    "Now, let's apply the above implemented exponential learning rate decay to the training of our 3-layer neural network using gradient descent optimization from earlier. Run the cell below to see the results."
   ],
   "metadata": {
    "collapsed": false,
    "pycharm": {
     "name": "#%% md\n"
    }
   }
  },
  {
   "cell_type": "code",
   "execution_count": null,
   "outputs": [],
   "source": [
    "# Extract the data\n",
    "with open(\"../data/optimization.pkl\", \"rb\") as f:\n",
    "    data = pickle.load(f)\n",
    "\n",
    "learning_rate = data[\"gd decay naive\"][\"learning_rate\"]\n",
    "iterations = data[\"gd decay naive\"][\"iterations\"]\n",
    "costs = data[\"gd decay naive\"][\"costs\"]\n",
    "decision = data[\"gd decay naive\"][\"decision\"]\n",
    "\n",
    "# Plot the cost over the first 5000 iterations as well as the decision boundary of our model\n",
    "Visualization.plot_costs_and_decision_boundary(iterations, costs, learning_rate, decision, train_X, train_Y)\n",
    "\n",
    "# Print the accuracy of the model\n",
    "accuracy = data[\"gd decay naive\"][\"accuracy\"]\n",
    "print (\"Accuracy of the model: \", accuracy)"
   ],
   "metadata": {
    "collapsed": false,
    "pycharm": {
     "name": "#%%\n"
    }
   }
  },
  {
   "cell_type": "markdown",
   "source": [],
   "metadata": {
    "collapsed": false
   }
  },
  {
   "cell_type": "markdown",
   "source": [
    "Notice that if you set the decay to occur at every iteration, the learning rate goes to zero too quickly - even if you start with a higher learning rate.\n",
    "<table>\n",
    "    <tr>\n",
    "        <td>\n",
    "        <b>Epoch Number</b>\n",
    "        </td>\n",
    "        <td>\n",
    "        <b>Learning Rate</b>\n",
    "        </td>\n",
    "        <td>\n",
    "        <b>Cost</b>\n",
    "        </td>\n",
    "    </tr>\n",
    "    <tr>\n",
    "        <td>\n",
    "        0\n",
    "        </td>\n",
    "        <td>\n",
    "        0.100000\n",
    "        </td>\n",
    "        <td>\n",
    "        0.701091\n",
    "        </td>\n",
    "    </tr>\n",
    "    <tr>\n",
    "        <td>\n",
    "        1000\n",
    "        </td>\n",
    "        <td>\n",
    "        0.000100\n",
    "        </td>\n",
    "        <td>\n",
    "        0.661884\n",
    "        </td>\n",
    "    </tr>\n",
    "    <tr>\n",
    "        <td>\n",
    "        2000\n",
    "        </td>\n",
    "        <td>\n",
    "        0.000050\n",
    "        </td>\n",
    "        <td>\n",
    "        0.658620\n",
    "        </td>\n",
    "    </tr>\n",
    "    <tr>\n",
    "        <td>\n",
    "        3000\n",
    "        </td>\n",
    "        <td>\n",
    "        0.000033\n",
    "        </td>\n",
    "        <td>\n",
    "        0.656765\n",
    "        </td>\n",
    "    </tr>\n",
    "    <tr>\n",
    "        <td>\n",
    "        4000\n",
    "        </td>\n",
    "        <td>\n",
    "        0.000025\n",
    "        </td>\n",
    "        <td>\n",
    "        0.655486\n",
    "        </td>\n",
    "    </tr>\n",
    "    <tr>\n",
    "        <td>\n",
    "        5000\n",
    "        </td>\n",
    "        <td>\n",
    "        0.000020\n",
    "        </td>\n",
    "        <td>\n",
    "        0.654514\n",
    "        </td>\n",
    "    </tr>\n",
    "</table>\n",
    "\n",
    "When you're training for a few epoch this doesn't cause a lot of troubles, but when the number of epochs is large the optimization algorithm will stop updating. One common fix to this issue is to decay the learning rate every few steps. This is called fixed interval scheduling."
   ],
   "metadata": {
    "collapsed": false,
    "pycharm": {
     "name": "#%% md\n"
    }
   }
  },
  {
   "cell_type": "markdown",
   "source": [
    "<a name='6-2'></a>\n",
    "### 6.2 - Fixed Interval Scheduling \\[1 point\\]\n",
    "\n",
    "You can help prevent the learning rate speeding to zero too quickly by scheduling the exponential learning rate decay at a fixed time interval, for example 1000. You can either number the intervals, or divide the epoch by the time interval, which is the size of window with the constant learning rate.\n",
    "\n",
    "<div>\n",
    "<img src=\"../img/optimization/learning_rate_01.png\" width=\"700\"/>\n",
    "</div>\n",
    "\n",
    "This process takes the following mathematical form:\n",
    "\n",
    "$$\\alpha = \\frac{1}{1 + decayRate \\times \\lfloor\\frac{epochNum}{timeInterval}\\rfloor} \\alpha_{0}$$\n",
    "\n",
    "The fraction in the denominator uses the [floor](https://numpy.org/doc/stable/reference/generated/numpy.floor.html) operation.\n",
    "\n",
    "\n",
    "<b><span style=\"color:teal\">TODO:</span> <b>\n",
    "<ol>\n",
    "<li><span style=\"color:teal\">Implement the method <span style=\"color:#DC143C\"><em>schedule_lr_decay</em></span> which updates the learning rate using exponential weight decay with fixed interval scheduling.</span></li>\n",
    "</ol>"
   ],
   "metadata": {
    "collapsed": false,
    "pycharm": {
     "name": "#%% md\n"
    }
   }
  },
  {
   "cell_type": "code",
   "execution_count": null,
   "outputs": [],
   "source": [
    "def schedule_lr_decay(learning_rate_0rig: float, epoch_num: int, decay_rate: float, time_interval=1000):\n",
    "    \"\"\"\n",
    "    Update the learning rate using exponential learning rate decay with fixed interval scheduling.\n",
    "\n",
    "    :param learning_rate_0rig: Original learning rate.\n",
    "    :param epoch_num: Epoch number.\n",
    "    :param decay_rate: Decay rate.\n",
    "    :param time_interval: Number of epochs where you update the learning rate.\n",
    "\n",
    "    :return: updated learning rate\n",
    "    \"\"\"\n",
    "\n",
    "    updated_lr = None\n",
    "\n",
    "    #############################################################################\n",
    "    #                            START OF YOUR CODE                             #\n",
    "    # TODO:                                                                     #\n",
    "    #    1) Update the learning rate using the given equation.                  #\n",
    "    #############################################################################\n",
    "\n",
    "\n",
    "    #############################################################################\n",
    "    #                              END OF YOUR CODE                             #\n",
    "    #############################################################################\n",
    "\n",
    "    return updated_lr"
   ],
   "metadata": {
    "collapsed": false,
    "pycharm": {
     "name": "#%%\n"
    }
   }
  },
  {
   "cell_type": "code",
   "execution_count": null,
   "outputs": [],
   "source": [
    "# Test your code\n",
    "\n",
    "!python ./tests/test_optimization.py --test_case TestExponentialWeightDecayScheduled"
   ],
   "metadata": {
    "collapsed": false,
    "pycharm": {
     "name": "#%%\n"
    }
   }
  },
  {
   "cell_type": "markdown",
   "source": [],
   "metadata": {
    "collapsed": false
   }
  },
  {
   "cell_type": "markdown",
   "source": [
    "<a name='6-3'></a>\n",
    "### 6.3 - Using Scheduled Learning Rate Decay for each Optimization Method\n",
    "\n",
    "Below, you'll use the \"moons\" dataset again to test the different optimization methods."
   ],
   "metadata": {
    "collapsed": false,
    "pycharm": {
     "name": "#%% md\n"
    }
   }
  },
  {
   "cell_type": "markdown",
   "source": [
    "<a name='6-3-1'></a>\n",
    "#### 6.3.1 - Gradient Descent with Scheduled Learning Rate Decay\n",
    "\n",
    "Run the following code to see how the model does, using gradient descent with scheduled weight decay."
   ],
   "metadata": {
    "collapsed": false,
    "pycharm": {
     "name": "#%% md\n"
    }
   }
  },
  {
   "cell_type": "code",
   "execution_count": null,
   "outputs": [],
   "source": [
    "# Extract the data\n",
    "with open(\"../data/optimization.pkl\", \"rb\") as f:\n",
    "    data = pickle.load(f)\n",
    "\n",
    "learning_rate = data[\"gd decay scheduled\"][\"learning_rate\"]\n",
    "iterations = data[\"gd decay scheduled\"][\"iterations\"]\n",
    "costs = data[\"gd decay scheduled\"][\"costs\"]\n",
    "decision = data[\"gd decay scheduled\"][\"decision\"]\n",
    "\n",
    "# Plot the cost over the first 5000 iterations as well as the decision boundary of our model\n",
    "Visualization.plot_costs_and_decision_boundary(iterations, costs, learning_rate, decision, train_X, train_Y)\n",
    "\n",
    "# Print the accuracy of the model\n",
    "accuracy = data[\"gd decay scheduled\"][\"accuracy\"]\n",
    "print (\"Accuracy of the model: \", accuracy)"
   ],
   "metadata": {
    "collapsed": false,
    "pycharm": {
     "name": "#%%\n"
    }
   }
  },
  {
   "cell_type": "markdown",
   "source": [],
   "metadata": {
    "collapsed": false
   }
  },
  {
   "cell_type": "markdown",
   "source": [
    "<a name='6-3-2'></a>\n",
    "#### 6.3.2 - Gradient Descent with Momentum and Scheduled Learning Rate Decay\n",
    "\n",
    "Run the following code to see how the model does, using gradient descent with momentum and scheduled weight decay."
   ],
   "metadata": {
    "collapsed": false,
    "pycharm": {
     "name": "#%% md\n"
    }
   }
  },
  {
   "cell_type": "code",
   "execution_count": null,
   "outputs": [],
   "source": [
    "# Extract the data\n",
    "with open(\"../data/optimization.pkl\", \"rb\") as f:\n",
    "    data = pickle.load(f)\n",
    "\n",
    "learning_rate = data[\"momentum decay scheduled\"][\"learning_rate\"]\n",
    "iterations = data[\"momentum decay scheduled\"][\"iterations\"]\n",
    "costs = data[\"momentum decay scheduled\"][\"costs\"]\n",
    "decision = data[\"momentum decay scheduled\"][\"decision\"]\n",
    "\n",
    "# Plot the cost over the first 5000 iterations as well as the decision boundary of our model\n",
    "Visualization.plot_costs_and_decision_boundary(iterations, costs, learning_rate, decision, train_X, train_Y)\n",
    "\n",
    "# Print the accuracy of the model\n",
    "accuracy = data[\"momentum decay scheduled\"][\"accuracy\"]\n",
    "print (\"Accuracy of the model: \", accuracy)"
   ],
   "metadata": {
    "collapsed": false,
    "pycharm": {
     "name": "#%%\n"
    }
   }
  },
  {
   "cell_type": "markdown",
   "source": [],
   "metadata": {
    "collapsed": false
   }
  },
  {
   "cell_type": "markdown",
   "source": [
    "<a name='6-3-3'></a>\n",
    "#### 6.3.3 - Adam with Scheduled Learning Rate Decay\n",
    "\n",
    "Run the following code to see how the model does, using Adam and scheduled weight decay."
   ],
   "metadata": {
    "collapsed": false,
    "pycharm": {
     "name": "#%% md\n"
    }
   }
  },
  {
   "cell_type": "code",
   "execution_count": null,
   "outputs": [],
   "source": [
    "# Extract the data\n",
    "with open(\"../data/optimization.pkl\", \"rb\") as f:\n",
    "    data = pickle.load(f)\n",
    "\n",
    "learning_rate = data[\"adam decay scheduled\"][\"learning_rate\"]\n",
    "iterations = data[\"adam decay scheduled\"][\"iterations\"]\n",
    "costs = data[\"adam decay scheduled\"][\"costs\"]\n",
    "decision = data[\"adam decay scheduled\"][\"decision\"]\n",
    "\n",
    "# Plot the cost over the first 5000 iterations as well as the decision boundary of our model\n",
    "Visualization.plot_costs_and_decision_boundary(iterations, costs, learning_rate, decision, train_X, train_Y)\n",
    "\n",
    "# Print the accuracy of the model\n",
    "accuracy = data[\"adam decay scheduled\"][\"accuracy\"]\n",
    "print (\"Accuracy of the model: \", accuracy)"
   ],
   "metadata": {
    "collapsed": false,
    "pycharm": {
     "name": "#%%\n"
    }
   }
  },
  {
   "cell_type": "markdown",
   "source": [],
   "metadata": {
    "collapsed": false
   }
  },
  {
   "cell_type": "markdown",
   "source": [
    "<a name='6-4'></a>\n",
    "### 6.4 - Achieving similar performance with different methods\n",
    "\n",
    "With Mini-batch GD or Mini-batch GD with Momentum, the accuracy is significantly lower than Adam, but when learning rate decay is added on top, either can achieve performance at a speed and accuracy score that's similar to Adam.\n",
    "\n",
    "In the case of Adam, notice that the learning curve achieves a similar accuracy but faster.\n",
    "\n",
    "<table>\n",
    "    <tr>\n",
    "        <td>\n",
    "        <b>optimization method</b>\n",
    "        </td>\n",
    "        <td>\n",
    "        <b>accuracy</b>\n",
    "        </td>\n",
    "    </tr>\n",
    "        <td>\n",
    "        Gradient descent\n",
    "        </td>\n",
    "        <td>\n",
    "        >94.6%\n",
    "        </td>\n",
    "    <tr>\n",
    "        <td>\n",
    "        Momentum\n",
    "        </td>\n",
    "        <td>\n",
    "        >95.6%\n",
    "        </td>\n",
    "    </tr>\n",
    "    <tr>\n",
    "        <td>\n",
    "        Adam\n",
    "        </td>\n",
    "        <td>\n",
    "        94%\n",
    "        </td>\n",
    "    </tr>\n",
    "</table>"
   ],
   "metadata": {
    "collapsed": false,
    "pycharm": {
     "name": "#%% md\n"
    }
   }
  },
  {
   "cell_type": "markdown",
   "source": [
    "<a id='7'></a>\n",
    "## 7 - End of Exercise ##\n",
    "\n",
    "<div>\n",
    "<img src=\"../img/memes/meme_congrats_03.png\" width=\"700\"/>\n",
    "</div>\n",
    "\n",
    "Created with and licensed under [Adobe Express](https://www.adobe.com/de/express/)"
   ],
   "metadata": {
    "collapsed": false,
    "pycharm": {
     "name": "#%% md\n"
    }
   }
  },
  {
   "cell_type": "code",
   "execution_count": null,
   "outputs": [],
   "source": [],
   "metadata": {
    "collapsed": false,
    "pycharm": {
     "name": "#%%\n"
    }
   }
  }
 ],
 "metadata": {
  "kernelspec": {
   "display_name": "Python 3",
   "language": "python",
   "name": "python3"
  },
  "language_info": {
   "codemirror_mode": {
    "name": "ipython",
    "version": 2
   },
   "file_extension": ".py",
   "mimetype": "text/x-python",
   "name": "python",
   "nbconvert_exporter": "python",
   "pygments_lexer": "ipython2",
   "version": "2.7.6"
  }
 },
 "nbformat": 4,
 "nbformat_minor": 0
}
