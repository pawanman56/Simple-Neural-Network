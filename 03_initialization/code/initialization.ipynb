{
 "cells": [
  {
   "cell_type": "markdown",
   "source": [
    "# Bonus: Initialization \\[10 points\\]"
   ],
   "metadata": {
    "collapsed": false,
    "pycharm": {
     "name": "#%% md\n"
    }
   }
  },
  {
   "cell_type": "markdown",
   "source": [
    "<b><span style=\"color:#00CED1\">Association:</span></b>\n",
    "<span style=\"color:#00CED1\">Otto-Friedrich University of Bamberg</span>\n",
    "<span style=\"color:#00CED1\">Chair of Explainable Machine Learning (xAI)</span>\n",
    "<span style=\"color:#00CED1\">Deep Learning Assignments</span>\n",
    "\n",
    "<b><span style=\"color:#00CED1\">Description:</span></b>\n",
    "<span style=\"color:#00CED1\">This notebook introduces different weight initialization methods including random, zeros, and He initialization.</span>\n",
    "<span style=\"color:#00CED1\">Students will implement all of them and learn how each of them lead to different results.</span>\n",
    "\n",
    "<span style=\"color:#00CED1\"><b>Author:</b> Sebastian Doerrich</span>\n",
    "<span style=\"color:#00CED1\"><b>Copyright:</b> Copyright (c) 2022, Chair of Explainable Machine Learning (xAI), Otto-Friedrich University of Bamberg</span>\n",
    "<span style=\"color:#00CED1\"><b>Credits:</b> Christian Ledig, Sebastian Doerrich</span>\n",
    "<span style=\"color:#00CED1\"><b>License:</b> CC BY-SA</span>\n",
    "<span style=\"color:#00CED1\"><b>Version:</b> 1.0</span>\n",
    "<span style=\"color:#00CED1\"><b>Python:</b> Python 3</span>\n",
    "<span style=\"color:#00CED1\"><b>Maintainer:</b> Sebastian Doerrich</span>\n",
    "<span style=\"color:#00CED1\"><b>Email:</b> sebastian.doerrich@uni-bamberg.de</span>\n",
    "<span style=\"color:#00CED1\"><b>Status:</b> Production</span>"
   ],
   "metadata": {
    "collapsed": false,
    "pycharm": {
     "name": "#%% md\n"
    }
   }
  },
  {
   "cell_type": "markdown",
   "source": [
    "## Context\n",
    "Welcome to the first part of your third programming assignment.\n",
    "In this first part you will implement different weight initialization methods and learn how all of them lead to different results.\n",
    "\n",
    "## Motivation\n",
    "Training your neural network requires specifying an initial value for the weights and bias parameters. A well-chosen initialization method can hereby help the learning process of the model.\n",
    "\n",
    "## Instructions\n",
    "- You will be using Python 3.\n",
    "- After coding your function, run the cell right below it to check if your result is correct.\n",
    "\n",
    "## Important Notes for Your Submission\n",
    "Before submitting your assignment, please make sure you are not doing the following:\n",
    "\n",
    "1. You have not added any _extra_ `print` statement(s) in the assignment.\n",
    "2. You have not added any _extra_ code cell(s) in the assignment.\n",
    "3. You have not changed any of the function parameters.\n",
    "4. You are not using any global variables inside your graded exercises. Unless specifically instructed to do so, please refrain from it and use the local variables instead.\n",
    "5. You are not changing the assignment code where it is not required, like creating _extra_ variables.\n",
    "\n",
    "If you do any of the mentioned, our test scripts will fail and as a result you will receive **0 points** for the respective task.\n",
    "\n",
    "## Table of Contents\n",
    "- [0 - Import the Necessary Libraries](#0)\n",
    "- [1 - Visualization](#1)\n",
    "- [2 - Data Generation](#2)\n",
    "- [3 - Preprocessing](#3)\n",
    "- [4 - Initialization Methods](#4)\n",
    "    - [4.1 - Zero Initialization](#4-1)\n",
    "        - [4.1.1 - Applying the Zero Initialization](#4-1-1)\n",
    "        - [4.1.2 - Analyzing the Zero Initialization](#4-1-2)\n",
    "        - [4.1.3 - Discussing the Zero Initialization](#4-1-3)\n",
    "    - [4.2 - Random Initialization](#4-2)\n",
    "        - [4.2.1 - Applying the Random Initialization](#4-2-1)\n",
    "        - [4.2.2 - Analyzing the Random Initialization](#4-2-2)\n",
    "        - [4.2.3 - Discussing the Random Initialization](#4-2-3)\n",
    "    - [4.3 - He Initialization](#4-3)\n",
    "        - [4.3.1 - Applying the He Initialization](#4-3-1)\n",
    "        - [4.3.2 - Analyzing the He Initialization](#4-3-2)\n",
    "        - [4.3.3 - Discussing the He Initialization](#4-3-3)\n",
    "    - [4.4 - Conclusion](#4-4)\n",
    "- [5 - What to remember](#5)\n",
    "- [6 - End of Exercise](#6)"
   ],
   "metadata": {
    "collapsed": false,
    "pycharm": {
     "name": "#%% md\n"
    }
   }
  },
  {
   "cell_type": "markdown",
   "source": [
    "<a name='0'></a>\n",
    "## 0 - Import the Necessary Libraries ##"
   ],
   "metadata": {
    "collapsed": false,
    "pycharm": {
     "name": "#%% md\n"
    }
   }
  },
  {
   "cell_type": "code",
   "execution_count": null,
   "outputs": [],
   "source": [
    "# Import packages\n",
    "import numpy as np\n",
    "import sklearn\n",
    "import sklearn.datasets\n",
    "import pickle\n",
    "\n",
    "import matplotlib.pyplot as plt\n",
    "%matplotlib inline"
   ],
   "metadata": {
    "collapsed": false,
    "pycharm": {
     "name": "#%%\n"
    }
   }
  },
  {
   "cell_type": "markdown",
   "source": [],
   "metadata": {
    "collapsed": false
   }
  },
  {
   "cell_type": "markdown",
   "source": [
    "<a id='1'></a>\n",
    "## 1 - Visualization ##\n",
    "\n",
    "These functions will be used for visualization. We provide those for you, so you can plot your results. You don't have to code anything here."
   ],
   "metadata": {
    "collapsed": false,
    "pycharm": {
     "name": "#%% md\n"
    }
   }
  },
  {
   "cell_type": "code",
   "execution_count": null,
   "outputs": [],
   "source": [
    "class Visualization:\n",
    "    \"\"\"\n",
    "    This class is used to collect all visualizations.\n",
    "    \"\"\"\n",
    "\n",
    "    @staticmethod\n",
    "    def visualize_the_data(train_X: np.ndarray, train_Y: np.ndarray, test_X: np.ndarray, test_Y: np.ndarray, scale=40, cmap=plt.cm.Spectral):\n",
    "        \"\"\"\n",
    "        Visualize the samples.\n",
    "\n",
    "        :param train_X: Training samples.\n",
    "        :param train_Y: Training Labels.\n",
    "        :param test_X: Test samples.\n",
    "        :param test_Y: Test labels.\n",
    "        :param scale: The marker size.\n",
    "        :param cmap: The Colormap instance or registered colormap name used to map scalar data to colors.\n",
    "        \"\"\"\n",
    "\n",
    "        # Create both plots\n",
    "        _, (train_ax, test_ax) = plt.subplots(ncols=2, sharex=True, sharey=True, figsize=(8, 4))\n",
    "\n",
    "        # Create plot for the training samples\n",
    "        train_scatter = train_ax.scatter(train_X[:, 0], train_X[:, 1], c=train_Y, s=scale, cmap=cmap, label=[0, 1])\n",
    "        train_ax.set_ylabel(\"Feature #1\")\n",
    "        train_ax.set_xlabel(\"Feature #0\")\n",
    "        train_ax.set_title(\"Training data\")\n",
    "        train_ax_legend = train_ax.legend(*train_scatter.legend_elements(), title=\"Classes\")\n",
    "        train_ax.add_artist(train_ax_legend)\n",
    "\n",
    "        # Create the plot for the test samples\n",
    "        test_scatter = test_ax.scatter(test_X[:, 0], test_X[:, 1], c=test_Y, s=scale, cmap=cmap)\n",
    "        test_ax.set_xlabel(\"Feature #0\")\n",
    "        test_ax.set_title(\"Test data\")\n",
    "        test_ax_legend = test_ax.legend(*test_scatter.legend_elements(), title=\"Classes\")\n",
    "        test_ax.add_artist(test_ax_legend)\n",
    "\n",
    "    @staticmethod\n",
    "    def plot_the_cost(iterations: list, costs: list, learning_rate: float):\n",
    "        \"\"\"\n",
    "        Plot the cost of the network during training.\n",
    "\n",
    "        :param iterations: Training iterations in the form [0, 1000, 2000, ..., 15000].\n",
    "        :param costs: Costs of the network for each training iteration.\n",
    "        :param learning_rate: Learning rate of the optimization algorithm.\n",
    "        \"\"\"\n",
    "\n",
    "        plt.plot(iterations, costs)\n",
    "        plt.ylabel('Cost')\n",
    "        plt.xlabel('Iterations')\n",
    "        plt.title(\"Learning rate =\" + str(learning_rate))\n",
    "        plt.show()\n",
    "\n",
    "    @staticmethod\n",
    "    def plot_decision_boundary(Z_train: np.ndarray, X_train: np.ndarray, Y_train: np.ndarray, Z_test: np.ndarray, X_test: np.ndarray, Y_test: np.ndarray):\n",
    "        \"\"\"\n",
    "        Plot the decision boundary of the model.\n",
    "\n",
    "        :param Z_train: Decision Function value for the whole grid for the training data.\n",
    "        :param X_train: Training samples.\n",
    "        :param Y_train: Training Labels.\n",
    "        :param Z_test: Decision Function value for the whole grid for the test data.\n",
    "        :param X_test: Test samples.\n",
    "        :param Y_test: Test Labels.\n",
    "        \"\"\"\n",
    "\n",
    "        # Initialize the hyperparameters\n",
    "        h = 0.01\n",
    "\n",
    "        # Set min and max values and give it some padding\n",
    "        x_min_train, x_max_train = X_train[0, :].min() - 1, X_train[0, :].max() + 1\n",
    "        y_min_train, y_max_train = X_train[1, :].min() - 1, X_train[1, :].max() + 1\n",
    "\n",
    "        x_min_test, x_max_test = X_test[0, :].min() - 1, X_test[0, :].max() + 1\n",
    "        y_min_test, y_max_test = X_test[1, :].min() - 1, X_test[1, :].max() + 1\n",
    "\n",
    "        # Generate a grid of points with distance h between them\n",
    "        xx_train, yy_train = np.meshgrid(np.arange(x_min_train, x_max_train, h), np.arange(y_min_train, y_max_train, h))\n",
    "\n",
    "        xx_test, yy_test = np.meshgrid(np.arange(x_min_test, x_max_test, h), np.arange(y_min_test, y_max_test, h))\n",
    "\n",
    "        # Create both plots\n",
    "        _, (train_ax, test_ax) = plt.subplots(ncols=2, sharex=True, sharey=True, figsize=(8, 4))\n",
    "\n",
    "        # Plot the decision boundary and training samples\n",
    "        train_ax.set_xlim([-1.5,1.5])\n",
    "        train_ax.set_ylim([-1.5,1.5])\n",
    "        train_ax.set_ylabel(\"Feature #1\")\n",
    "        train_ax.set_xlabel(\"Feature #0\")\n",
    "        train_ax.set_title(\"Training data\")\n",
    "\n",
    "        train_ax.contourf(xx_train, yy_train, Z_train, cmap=plt.cm.Spectral)\n",
    "        train_scatter = train_ax.scatter(X_train[0, :], X_train[1, :], c=Y_train, cmap=plt.cm.Spectral)\n",
    "\n",
    "        train_ax_legend = train_ax.legend(*train_scatter.legend_elements(), title=\"Classes\")\n",
    "        train_ax.add_artist(train_ax_legend)\n",
    "\n",
    "        # Plot the decision boundary and test samples\n",
    "        test_ax.set_xlim([-1.5,1.5])\n",
    "        test_ax.set_ylim([-1.5,1.5])\n",
    "        test_ax.set_ylabel(\"Feature #1\")\n",
    "        test_ax.set_xlabel(\"Feature #0\")\n",
    "        test_ax.set_title(\"Test data\")\n",
    "        test_ax.contourf(xx_test, yy_test, Z_test, cmap=plt.cm.Spectral)\n",
    "        test_scatter = test_ax.scatter(X_test[0, :], X_test[1, :], c=Y_test, cmap=plt.cm.Spectral)\n",
    "\n",
    "        test_ax_legend = test_ax.legend(*test_scatter.legend_elements(), title=\"Classes\")\n",
    "        test_ax.add_artist(test_ax_legend)"
   ],
   "metadata": {
    "collapsed": false,
    "pycharm": {
     "name": "#%%\n"
    }
   }
  },
  {
   "cell_type": "markdown",
   "source": [],
   "metadata": {
    "collapsed": false
   }
  },
  {
   "cell_type": "markdown",
   "source": [
    "<a id='2'></a>\n",
    "## 2 - Data Generation \\[2 points\\] ##\n",
    "\n",
    "As always, the first task is to load the dataset. However, this time we will generate the samples ourselves instead of loading them from somewhere. We will use a simple toy dataset provided by the scikit-learn package for this purpose. The respective function creates 2D-samples forming a large circle (class 0) which contains a smaller circle (class 1), as it is presented in the figure below:\n",
    "<div>\n",
    "<img src=\"../img/initialization_dataset.png\" width=\"700\"/>\n",
    "</div>\n",
    "\n",
    "\n",
    "<b><span style=\"color:teal\">TODO:</span> <b>\n",
    "<ol>\n",
    "<li><span style=\"color:teal\">Implement the method <span style=\"color:#DC143C\"><em>create_dataset</em></span> which generates our training and test samples.</span></li>\n",
    "</ol>"
   ],
   "metadata": {
    "collapsed": false,
    "pycharm": {
     "name": "#%% md\n"
    }
   }
  },
  {
   "cell_type": "code",
   "execution_count": null,
   "outputs": [],
   "source": [
    "def generate_dataset(n_samples_train: int, n_samples_test: int, noise_train: float, noise_test: float, seed_train: int, seed_test: int):\n",
    "    \"\"\"\n",
    "    Generate the data set.\n",
    "\n",
    "    :param n_samples_train: Number of training samples.\n",
    "    :param n_samples_test: Number of test samples.\n",
    "    :param noise_train: Standard deviation of Gaussian noise added to the training samples.\n",
    "    :param noise_test: Standard deviation of Gaussian noise added to the test samples.\n",
    "    :param seed_train: Random seed for generation of the training samples.\n",
    "    :param seed_test: Random seed for generation of the test samples.\n",
    "\n",
    "    :return: Training samples, training labels, test samples, test labels\n",
    "    \"\"\"\n",
    "\n",
    "    train_X, train_Y = None, None\n",
    "    test_X, test_Y = None, None\n",
    "\n",
    "    #############################################################################\n",
    "    #                            START OF YOUR CODE                             #\n",
    "    # TODO:                                                                     #\n",
    "    #    1) Generate the training samples using the function                    #\n",
    "    #       sklearn.datasets.make_circles() with the given parameters.          #\n",
    "    #    2) Create the test samples using the function                          #\n",
    "    #       sklearn.datasets.make_circles() with the given parameters.          #\n",
    "    #    3) sklearn.datasets.make_circles() uses randomization. Hence, you have #\n",
    "    #       to use the provided seed, so that your results match mine.          #\n",
    "    #############################################################################\n",
    "\n",
    "\n",
    "    #############################################################################\n",
    "    #                              END OF YOUR CODE                             #\n",
    "    #############################################################################\n",
    "\n",
    "    return train_X, train_Y, test_X, test_Y"
   ],
   "metadata": {
    "collapsed": false,
    "pycharm": {
     "name": "#%%\n"
    }
   }
  },
  {
   "cell_type": "code",
   "execution_count": null,
   "outputs": [],
   "source": [
    "# Test your code\n",
    "\n",
    "!python ./tests/test_initialization.py --test_case TestDataGeneration"
   ],
   "metadata": {
    "collapsed": false,
    "pycharm": {
     "name": "#%%\n"
    }
   }
  },
  {
   "cell_type": "code",
   "execution_count": null,
   "outputs": [],
   "source": [
    "# Plot the dataset\n",
    "# Initialize the hyperparameters\n",
    "n_samples_train, n_samples_test = 300, 100\n",
    "noise_train, noise_test = .05, .05\n",
    "seed_train, seed_test = 1, 2\n",
    "\n",
    "# Generate the dataset\n",
    "train_X, train_Y, test_X, test_Y = generate_dataset(n_samples_train, n_samples_test, noise_train, noise_test, seed_train, seed_test)\n",
    "\n",
    "# Plot the dataset\n",
    "Visualization.visualize_the_data(train_X, train_Y, test_X, test_Y)"
   ],
   "metadata": {
    "collapsed": false,
    "pycharm": {
     "name": "#%%\n"
    }
   }
  },
  {
   "cell_type": "markdown",
   "source": [],
   "metadata": {
    "collapsed": false
   }
  },
  {
   "cell_type": "markdown",
   "source": [
    "<a id='3'></a>\n",
    "## 3 - Preprocessing \\[2 points\\] ##\n",
    "\n",
    "So that we are able to process our samples further, we need to preprocess them first i.e. bring them in a proper format.\n",
    "\n",
    "<b><span style=\"color:teal\">TODO:</span> <b>\n",
    "<ol>\n",
    "<li><span style=\"color:teal\">Implement the method <span style=\"color:#DC143C\"><em>preprocess</em></span> which preprocesses our training and test sets.</span></li>\n",
    "</ol>"
   ],
   "metadata": {
    "collapsed": false,
    "pycharm": {
     "name": "#%% md\n"
    }
   }
  },
  {
   "cell_type": "code",
   "execution_count": null,
   "outputs": [],
   "source": [
    "def preprocess(train_X: np.ndarray, train_Y: np.ndarray, test_X: np.ndarray, test_Y: np.ndarray):\n",
    "    \"\"\"\n",
    "    Preprocess the data.\n",
    "\n",
    "    :param train_X: Generated training samples.\n",
    "    :param train_Y: Generated training labels.\n",
    "    :param test_X: Generated test samples.\n",
    "    :param test_Y: Generated test labels.\n",
    "\n",
    "    :return: preprocessed training samples, preprocessed training labels, preprocessed test samples, preprocessed test labels\n",
    "    \"\"\"\n",
    "\n",
    "    preprocessed_train_X, preprocessed_train_Y = None, None\n",
    "    preprocessed_test_X, preprocessed_test_Y = None, None\n",
    "\n",
    "    #############################################################################\n",
    "    #                            START OF YOUR CODE                             #\n",
    "    # TODO:                                                                     #\n",
    "    #    1) Transpose the train samples.                                        #\n",
    "    #    2) Upscale the train labels by one dimension to a 2D array at index 0. #\n",
    "    #    3) Transpose the test samples.                                         #\n",
    "    #    4) Upscale the test labels by one dimension to a 2D array at index 0.  #\n",
    "    #############################################################################\n",
    "\n",
    "\n",
    "    #############################################################################\n",
    "    #                              END OF YOUR CODE                             #\n",
    "    #############################################################################\n",
    "\n",
    "    return preprocessed_train_X, preprocessed_train_Y, preprocessed_test_X, preprocessed_test_Y"
   ],
   "metadata": {
    "collapsed": false,
    "pycharm": {
     "name": "#%%\n"
    }
   }
  },
  {
   "cell_type": "code",
   "execution_count": null,
   "outputs": [],
   "source": [
    "# Test your code\n",
    "\n",
    "!python ./tests/test_initialization.py --test_case TestPreprocessing"
   ],
   "metadata": {
    "collapsed": false,
    "pycharm": {
     "name": "#%%\n"
    }
   }
  },
  {
   "cell_type": "markdown",
   "source": [],
   "metadata": {
    "collapsed": false
   }
  },
  {
   "cell_type": "markdown",
   "source": [
    "<a id='4'></a>\n",
    "## 4 - Initialization Methods \\[4 points\\] ##\n",
    "\n",
    "You will use a 3-layer neural network to classify the samples which we have generated before. The model's layer structure can be written like:\n",
    "- Fully Connected Layer -> ReLU Activation -> Fully Connected Layer -> ReLU Activation -> Fully Connected Layer -> Sigmoid Activation (Classifier)\n",
    "\n",
    "Since this exercise was created for you to analyze the different types of initialization methods, you don't have to implement the model yourself. This time, we will provide you with the required model. However, you will have to experiment with the following initialization methods:\n",
    "- *Zeros initialization*: Initializes the weights with zero.\n",
    "- *Random initialization*: Initializes the weights to large random values.\n",
    "- *He initialization*: Initializes the weights to random values scaled according to a paper by He et al., 2015.\n",
    "\n",
    "As we now know, there are two types of parameters to initialize in a neural network:\n",
    "- the weight matrices $(W^{[1]}, W^{[2]}, ..., W^{[L]})$\n",
    "- the bias vectors $(b^{[1]}, b^{[2]}, ..., b^{[L]})$"
   ],
   "metadata": {
    "collapsed": false,
    "pycharm": {
     "name": "#%% md\n"
    }
   }
  },
  {
   "cell_type": "markdown",
   "source": [
    "<a id='4-1'></a>\n",
    "## 4.1 - Zero Initialization \\[2 points\\] ##\n",
    "\n",
    "Zero Initialization initializes all parameters to zero.\n",
    "\n",
    "<b><span style=\"color:teal\">TODO:</span> <b>\n",
    "<ol>\n",
    "<li><span style=\"color:teal\">Implement the method <span style=\"color:#DC143C\"><em>initialize_parameters_zeros</em></span> which initializes all network weights as well as the bias with zeros.</span></li>\n",
    "</ol>"
   ],
   "metadata": {
    "collapsed": false,
    "pycharm": {
     "name": "#%% md\n"
    }
   }
  },
  {
   "cell_type": "code",
   "execution_count": null,
   "outputs": [],
   "source": [
    "def initialize_parameters_zeros(layers_dims: list):\n",
    "    \"\"\"\n",
    "    Initialize the weights and bias of the network with 0.\n",
    "\n",
    "    :param layers_dims: List containing the size of each layer.\n",
    "\n",
    "    :return: parameters -- python dictionary containing your parameters \"W1\", \"b1\", ..., \"WL\", \"bL\":\n",
    "                W1 -- weight matrix of shape (layers_dims[1], layers_dims[0])\n",
    "                b1 -- bias vector of shape (layers_dims[1], 1)\n",
    "                ...\n",
    "                WL -- weight matrix of shape (layers_dims[L], layers_dims[L-1])\n",
    "                bL -- bias vector of shape (layers_dims[L], 1)\n",
    "    \"\"\"\n",
    "\n",
    "    parameters = {}\n",
    "\n",
    "    #############################################################################\n",
    "    #                            START OF YOUR CODE                             #\n",
    "    # TODO:                                                                     #\n",
    "    #    1) Iterate through (nearly) all layers.                                #\n",
    "    #       - Hint: There is one layer, for which we don't want to initialize   #\n",
    "    #               weights and bias.                                           #\n",
    "    #    2) Initialize the weight matrix of each layer with zeros.              #\n",
    "    #    3) Initialize the bias vector of each layer with zeros.                #\n",
    "    #############################################################################\n",
    "\n",
    "\n",
    "    #############################################################################\n",
    "    #                              END OF YOUR CODE                             #\n",
    "    #############################################################################\n",
    "    return parameters"
   ],
   "metadata": {
    "collapsed": false,
    "pycharm": {
     "name": "#%%\n"
    }
   }
  },
  {
   "cell_type": "code",
   "execution_count": null,
   "outputs": [],
   "source": [
    "# Test your code\n",
    "\n",
    "!python ./tests/test_initialization.py --test_case TestZeroInitialization"
   ],
   "metadata": {
    "collapsed": false,
    "pycharm": {
     "name": "#%%\n"
    }
   }
  },
  {
   "cell_type": "markdown",
   "source": [],
   "metadata": {
    "collapsed": false
   }
  },
  {
   "cell_type": "markdown",
   "source": [
    "<a id='4-1-1'></a>\n",
    "## 4.1.1 - Applying the Zero Initialization ##\n",
    "\n",
    "Like said before, we went ahead and implemented the model for you. Run the cell below to print out the cost of a model for the first 15000 iterations for which:\n",
    "- The network weights were initialized with zeros.\n",
    "- The network bias was initialized with zeros."
   ],
   "metadata": {
    "collapsed": false,
    "pycharm": {
     "name": "#%% md\n"
    }
   }
  },
  {
   "cell_type": "code",
   "execution_count": null,
   "outputs": [],
   "source": [
    "# Extract the data\n",
    "with open(\"../data/initialization.pkl\", \"rb\") as f:\n",
    "    data = pickle.load(f)\n",
    "\n",
    "iterations = data[\"zero initialization\"][\"iterations\"]\n",
    "costs = data[\"zero initialization\"][\"costs\"]\n",
    "learning_rate = data[\"zero initialization\"][\"learning_rate\"]\n",
    "\n",
    "# Print out the cost over the first 15000 iterations\n",
    "for iteration, cost in zip(iterations, costs):\n",
    "    print(\"Cost after iteration {}: {}\".format(iteration, cost))\n",
    "\n",
    "# Plot the cost over the first 15000 iterations\n",
    "Visualization.plot_the_cost(iterations, costs, learning_rate)\n",
    "\n",
    "# Print the accuracy of our model\n",
    "accuracy_train = data[\"zero initialization\"][\"accuracy train set\"]\n",
    "accuracy_test = data[\"zero initialization\"][\"accuracy test set\"]\n",
    "\n",
    "print (\"Accuracy of the model on the train set: \", accuracy_train)\n",
    "print (\"Accuracy of the model on the test set: \", accuracy_test)"
   ],
   "metadata": {
    "collapsed": false,
    "pycharm": {
     "name": "#%%\n"
    }
   }
  },
  {
   "cell_type": "markdown",
   "source": [],
   "metadata": {
    "collapsed": false
   }
  },
  {
   "cell_type": "markdown",
   "source": [
    "<a id='4-1-2'></a>\n",
    "## 4.1.2 - Analyzing the Zero Initialization ##\n",
    "\n",
    "As it can be seen, the performance is terrible. The cost doesn't decrease, and the algorithm performs no better than random guessing.\n",
    "Why is that? Take a look at the details of the predictions and the decision boundary by running the cell below."
   ],
   "metadata": {
    "collapsed": false,
    "pycharm": {
     "name": "#%% md\n"
    }
   }
  },
  {
   "cell_type": "code",
   "execution_count": null,
   "outputs": [],
   "source": [
    "# Generate the samples\n",
    "# Plot the dataset\n",
    "# Initialize the hyperparameters\n",
    "n_samples_train, n_samples_test = 300, 100\n",
    "noise_train, noise_test = .05, .05\n",
    "seed_train, seed_test = 1, 2\n",
    "\n",
    "# Generate the dataset\n",
    "train_X, train_Y, test_X, test_Y = generate_dataset(n_samples_train, n_samples_test, noise_train, noise_test, seed_train, seed_test)\n",
    "\n",
    "# Preprocess the dataset\n",
    "train_X, train_Y, test_X, test_Y = preprocess(train_X, train_Y, test_X, test_Y)\n",
    "\n",
    "# Extract the data\n",
    "with open(\"../data/initialization.pkl\", \"rb\") as f:\n",
    "    data = pickle.load(f)\n",
    "\n",
    "predictions_train = data[\"zero initialization\"][\"predictions train\"]\n",
    "predictions_test = data[\"zero initialization\"][\"predictions test\"]\n",
    "\n",
    "# Print the detailed predictions\n",
    "print (\"Predictions training: \" + str(predictions_train))\n",
    "print (\"predictions test: \" + str(predictions_test))\n",
    "\n",
    "# Plot the decision boundary of our model\n",
    "decision_train = data[\"zero initialization\"][\"decision train\"]\n",
    "decision_test = data[\"zero initialization\"][\"decision test\"]\n",
    "Visualization.plot_decision_boundary(decision_train, train_X, train_Y, decision_test, test_X, test_Y)"
   ],
   "metadata": {
    "collapsed": false,
    "pycharm": {
     "name": "#%%\n"
    }
   }
  },
  {
   "cell_type": "markdown",
   "source": [],
   "metadata": {
    "collapsed": false
   }
  },
  {
   "cell_type": "markdown",
   "source": [
    "<a id='4-1-3'></a>\n",
    "## 4.1.3 - Discussing the Zero Initialization ##\n",
    "\n",
    "__Note__: For sake of simplicity calculations below are done using only one example at a time.\n",
    "\n",
    "Since the weights and biases are zero, multiplying by the weights creates the zero vector which gives 0 when the activation function is ReLU. As `z = 0`\n",
    "\n",
    "$$a = ReLU(z) = max(0, z) = 0$$\n",
    "\n",
    "At the classification layer, where the activation function is sigmoid you then get (for either input):\n",
    "\n",
    "$$\\sigma(z) = \\frac{1}{ 1 + e^{-(z)}} = \\frac{1}{2} = y_{pred}$$\n",
    "\n",
    "As for every example you are getting a 0.5 chance of it being true our cost function becomes helpless in adjusting the weights.\n",
    "\n",
    "Your loss function:\n",
    "$$ \\mathcal{L}(a, y) =  - y  \\ln(y_{pred}) - (1-y)  \\ln(1-y_{pred})$$\n",
    "\n",
    "For `y=1`, `y_pred=0.5` it becomes:\n",
    "\n",
    "$$ \\mathcal{L}(0, 1) =  - (1)  \\ln(\\frac{1}{2}) = 0.6931471805599453$$\n",
    "\n",
    "For `y=0`, `y_pred=0.5` it becomes:\n",
    "\n",
    "$$ \\mathcal{L}(0, 0) =  - (1)  \\ln(\\frac{1}{2}) = 0.6931471805599453$$\n",
    "\n",
    "As you can see with the prediction being 0.5 whether the actual (`y`) value is 1 or 0 you get the same loss value for both, so none of the weights get adjusted and you are stuck with the same old value of the weights.\n",
    "\n",
    "This is why you can see that the model is predicting 0 for every example! No wonder it's doing so badly.\n",
    "\n",
    "In general, initializing all the weights to zero results in the network failing to break symmetry. This means that every neuron in each layer will learn the same thing, so you might as well be training a neural network with $n^{[l]}=1$ for every layer. This way, the network is no more powerful than a linear classifier like logistic regression."
   ],
   "metadata": {
    "collapsed": false,
    "pycharm": {
     "name": "#%% md\n"
    }
   }
  },
  {
   "cell_type": "markdown",
   "source": [
    "<a id='4-2'></a>\n",
    "## 4.2 - Random Initialization \\[2 points\\] ##\n",
    "\n",
    "To break symmetry, initialize the weights randomly. Following random initialization, each neuron can then proceed to learn a different function of its inputs. In this exercise, you'll see what happens when the weights are initialized randomly, but to very large values (scaled by \\*10).\n",
    "\n",
    "<b><span style=\"color:teal\">TODO:</span> <b>\n",
    "<ol>\n",
    "<li><span style=\"color:teal\">Implement the method <span style=\"color:#DC143C\"><em>initialize_parameters_random</em></span> which initializes all network weights randomly and the bias with zeros.</span></li>\n",
    "</ol>"
   ],
   "metadata": {
    "collapsed": false,
    "pycharm": {
     "name": "#%% md\n"
    }
   }
  },
  {
   "cell_type": "code",
   "execution_count": null,
   "outputs": [],
   "source": [
    "def initialize_parameters_random(layers_dims: list, seed: int):\n",
    "    \"\"\"\n",
    "    Initialize the weights and bias of the network randomly.\n",
    "\n",
    "    :param layers_dims: List containing the size of each layer.\n",
    "    :param seed: Seed for the random operation(s).\n",
    "\n",
    "    :return:\n",
    "    parameters -- python dictionary containing your parameters \"W1\", \"b1\", ..., \"WL\", \"bL\":\n",
    "                    W1 -- weight matrix of shape (layers_dims[1], layers_dims[0])\n",
    "                    b1 -- bias vector of shape (layers_dims[1], 1)\n",
    "                    ...\n",
    "                    WL -- weight matrix of shape (layers_dims[L], layers_dims[L-1])\n",
    "                    bL -- bias vector of shape (layers_dims[L], 1)\n",
    "    \"\"\"\n",
    "\n",
    "    parameters = {}\n",
    "\n",
    "    #############################################################################\n",
    "    #                            START OF YOUR CODE                             #\n",
    "    # TODO:                                                                     #\n",
    "    #    1) Use the provided seed to make sure your \"random\" weights match ours.#\n",
    "    #    2) Iterate through (nearly) all layers.                                #\n",
    "    #       - Hint: There is one layer, for which we don't want to initialize   #\n",
    "    #               weights and bias.                                           #\n",
    "    #    3) Initialize the weight matrix of each layer randomly.                #\n",
    "    #    4) Multiply each weight with the factor 10 to create large weights.    #\n",
    "    #    5) Initialize the bias vector of each layer with zeros.                #\n",
    "    #############################################################################\n",
    "\n",
    "\n",
    "    #############################################################################\n",
    "    #                              END OF YOUR CODE                             #\n",
    "    #############################################################################\n",
    "    return parameters"
   ],
   "metadata": {
    "collapsed": false,
    "pycharm": {
     "name": "#%%\n"
    }
   }
  },
  {
   "cell_type": "code",
   "execution_count": null,
   "outputs": [],
   "source": [
    "# Test your code\n",
    "\n",
    "!python ./tests/test_initialization.py --test_case TestRandomInitialization"
   ],
   "metadata": {
    "collapsed": false,
    "pycharm": {
     "name": "#%%\n"
    }
   }
  },
  {
   "cell_type": "markdown",
   "source": [],
   "metadata": {
    "collapsed": false
   }
  },
  {
   "cell_type": "markdown",
   "source": [
    "<a id='4-2-1'></a>\n",
    "## 4.2.1 - Applying the Random Initialization ##\n",
    "\n",
    "Run the cell below to print out the training costs of a model for the first 15000 iterations, for which:\n",
    "- The network weights were initialized with large random values (*10).\n",
    "- The network bias was initialized with zeros."
   ],
   "metadata": {
    "collapsed": false,
    "pycharm": {
     "name": "#%% md\n"
    }
   }
  },
  {
   "cell_type": "code",
   "execution_count": null,
   "outputs": [],
   "source": [
    "# Extract the data\n",
    "with open(\"../data/initialization.pkl\", \"rb\") as f:\n",
    "    data = pickle.load(f)\n",
    "\n",
    "iterations = data[\"random initialization\"][\"iterations\"]\n",
    "costs = data[\"random initialization\"][\"costs\"]\n",
    "learning_rate = data[\"random initialization\"][\"learning_rate\"]\n",
    "\n",
    "# Print out the cost over the first 15000 iterations\n",
    "for iteration, cost in zip(iterations, costs):\n",
    "    print(\"Cost after iteration {}: {}\".format(iteration, cost))\n",
    "\n",
    "# Plot the cost over the first 15000 iterations\n",
    "Visualization.plot_the_cost(iterations, costs, learning_rate)\n",
    "\n",
    "# Print the accuracy of our model\n",
    "accuracy_train = data[\"random initialization\"][\"accuracy train set\"]\n",
    "accuracy_test = data[\"random initialization\"][\"accuracy test set\"]\n",
    "\n",
    "print (\"Accuracy of the model on the train set: \", accuracy_train)\n",
    "print (\"Accuracy of the model on the test set: \", accuracy_test)"
   ],
   "metadata": {
    "collapsed": false,
    "pycharm": {
     "name": "#%%\n"
    }
   }
  },
  {
   "cell_type": "markdown",
   "source": [],
   "metadata": {
    "collapsed": false
   }
  },
  {
   "cell_type": "markdown",
   "source": [
    "<a id='4-2-2'></a>\n",
    "## 4.2.2 - Analyzing the Random Initialization ##\n",
    "\n",
    "If you see \"inf\" as the cost after the iteration 0, this is because of numerical round-off. A more numerically sophisticated implementation would fix this, but for the purposes of this notebook, it isn't really worth worrying about.\n",
    "\n",
    "In any case, you've now broken the symmetry, and this gives noticeably better accuracy than before. The model is no longer outputting all 0s. Progress!\n",
    "Let's take a look at the details of the predictions and the decision boundary by running the cell below."
   ],
   "metadata": {
    "collapsed": false,
    "pycharm": {
     "name": "#%% md\n"
    }
   }
  },
  {
   "cell_type": "code",
   "execution_count": null,
   "outputs": [],
   "source": [
    "# Generate the samples\n",
    "# Plot the dataset\n",
    "# Initialize the hyperparameters\n",
    "n_samples_train, n_samples_test = 300, 100\n",
    "noise_train, noise_test = .05, .05\n",
    "seed_train, seed_test = 1, 2\n",
    "\n",
    "# Generate the dataset\n",
    "train_X, train_Y, test_X, test_Y = generate_dataset(n_samples_train, n_samples_test, noise_train, noise_test, seed_train, seed_test)\n",
    "\n",
    "# Preprocess the dataset\n",
    "train_X, train_Y, test_X, test_Y = preprocess(train_X, train_Y, test_X, test_Y)\n",
    "\n",
    "# Extract the data\n",
    "with open(\"../data/initialization.pkl\", \"rb\") as f:\n",
    "    data = pickle.load(f)\n",
    "\n",
    "predictions_train = data[\"random initialization\"][\"predictions train\"]\n",
    "predictions_test = data[\"random initialization\"][\"predictions test\"]\n",
    "\n",
    "# Print the detailed predictions\n",
    "print (\"Predictions training: \" + str(predictions_train))\n",
    "print (\"predictions test: \" + str(predictions_test))\n",
    "\n",
    "# Plot the decision boundary of our model\n",
    "decision_train = data[\"random initialization\"][\"decision train\"]\n",
    "decision_test = data[\"random initialization\"][\"decision test\"]\n",
    "Visualization.plot_decision_boundary(decision_train, train_X, train_Y, decision_test, test_X, test_Y)"
   ],
   "metadata": {
    "collapsed": false,
    "pycharm": {
     "name": "#%%\n"
    }
   }
  },
  {
   "cell_type": "markdown",
   "source": [],
   "metadata": {
    "collapsed": false
   }
  },
  {
   "cell_type": "markdown",
   "source": [
    "<a id='4-2-3'></a>\n",
    "## 4.2.3 - Discussing the Random Initialization ##\n",
    "\n",
    "**Observations**:\n",
    "- The cost starts very high. This is because with large random-valued weights, the last activation (sigmoid) outputs results that are very close to 0 or 1 for some examples, and when it gets that example wrong it incurs a very high loss for that example. Indeed, when $\\log(a^{[3]}) = \\log(0)$, the loss goes to infinity.\n",
    "- Poor initialization can lead to vanishing/exploding gradients, which also slows down the optimization algorithm.\n",
    "- If you train this network longer you will see better results, but initializing with overly large random numbers slows down the optimization.\n",
    "- Initializing weights to very large random values doesn't work well.\n",
    "- Initializing with small random values should do better. The important question is, how small should be these random values be? Let's find out up next!\n",
    "\n",
    "**Optional Read:**\n",
    "The main difference between Gaussian variable (`numpy.random.randn()`) and uniform random variable is the distribution of the generated random numbers:\n",
    "- numpy.random.rand() produces numbers in a [uniform distribution](https://raw.githubusercontent.com/jahnog/deeplearning-notes/master/Course2/images/rand.jpg).\n",
    "- and numpy.random.randn() produces numbers in a [normal distribution](https://raw.githubusercontent.com/jahnog/deeplearning-notes/master/Course2/images/randn.jpg).\n",
    "\n",
    "When used for weight initialization, randn() helps most the weights to avoid being close to the extremes, allocating most of them in the center of the range.\n",
    "An intuitive way to see it is, for example, if you take the [sigmoid() activation function](https://raw.githubusercontent.com/jahnog/deeplearning-notes/master/Course2/images/sigmoid.jpg).\n",
    "You’ll remember that the slope near 0 or near 1 is extremely small, so the weights near those extremes will converge much more slowly to the solution, and having most of them near the center will speed the convergence."
   ],
   "metadata": {
    "collapsed": false,
    "pycharm": {
     "name": "#%% md\n"
    }
   }
  },
  {
   "cell_type": "markdown",
   "source": [
    "<a id='4-3'></a>\n",
    "## 4.3 - He Initialization \\[2 points\\] ##\n",
    "\n",
    "Finally, try **He Initialization**; this is named for the first author of [He et al., 2015](https://arxiv.org/pdf/1512.03385.pdf). If you have heard of \"Xavier initialization\", this is similar except Xavier initialization uses a scaling factor for the weights $W^{[l]}$ of $\\sqrt{\\frac{1}{\\text{layers_dims[l-1]}}}$ where He initialization would use $\\sqrt{\\frac{2}{\\text{layers_dims[l-1]}}}$.\n",
    "\n",
    "<b><span style=\"color:teal\">TODO:</span> <b>\n",
    "<ol>\n",
    "<li><span style=\"color:teal\">Implement the method <span style=\"color:#DC143C\"><em>initialize_parameters_he</em></span> which initializes all network weights the same way as He et al. proposed it in 2015 for layers with a ReLU activation.</span></li>\n",
    "</ol>"
   ],
   "metadata": {
    "collapsed": false,
    "pycharm": {
     "name": "#%% md\n"
    }
   }
  },
  {
   "cell_type": "code",
   "execution_count": null,
   "outputs": [],
   "source": [
    "def initialize_parameters_he(layers_dims: list, seed: int):\n",
    "    \"\"\"\n",
    "    Initialize the weights and bias of the network like He et al. proposed it in 2015.\n",
    "\n",
    "    :param layers_dims: List containing the size of each layer.\n",
    "    :param seed: Seed for the random operation(s).\n",
    "\n",
    "    :return:\n",
    "    parameters -- python dictionary containing your parameters \"W1\", \"b1\", ..., \"WL\", \"bL\":\n",
    "                    W1 -- weight matrix of shape (layers_dims[1], layers_dims[0])\n",
    "                    b1 -- bias vector of shape (layers_dims[1], 1)\n",
    "                    ...\n",
    "                    WL -- weight matrix of shape (layers_dims[L], layers_dims[L-1])\n",
    "                    bL -- bias vector of shape (layers_dims[L], 1)\n",
    "    \"\"\"\n",
    "\n",
    "    parameters = {}\n",
    "\n",
    "    #############################################################################\n",
    "    #                            START OF YOUR CODE                             #\n",
    "    # TODO:                                                                     #\n",
    "    #    1) Use the provided seed to make sure your \"random\" weights match ours.#\n",
    "    #    2) Iterate through (nearly) all layers.                                #\n",
    "    #       - Hint: There is one layer, for which we don't want to initialize   #\n",
    "    #               weights and bias.                                           #\n",
    "    #    3) Initialize the weight matrix of each layer as He et al. proposed it #\n",
    "    #    4) Initialize the bias vector of each layer with zeros.                #\n",
    "    #############################################################################\n",
    "\n",
    "\n",
    "    #############################################################################\n",
    "    #                              END OF YOUR CODE                             #\n",
    "    #############################################################################\n",
    "    return parameters"
   ],
   "metadata": {
    "collapsed": false,
    "pycharm": {
     "name": "#%%\n"
    }
   }
  },
  {
   "cell_type": "code",
   "execution_count": null,
   "outputs": [],
   "source": [
    "# Test your code\n",
    "\n",
    "!python ./tests/test_initialization.py --test_case TestHeInitialization"
   ],
   "metadata": {
    "collapsed": false,
    "pycharm": {
     "name": "#%%\n"
    }
   }
  },
  {
   "cell_type": "markdown",
   "source": [],
   "metadata": {
    "collapsed": false
   }
  },
  {
   "cell_type": "markdown",
   "source": [
    "<a id='4-3-1'></a>\n",
    "## 4.3.1 - Applying the He Initialization ##\n",
    "\n",
    "Run the cell below to print out the training costs of a model for the first 15000 iterations, for which:\n",
    "- The network weights were initialized after the approach of He et al. (2015).\n",
    "- The network bias was initialized with zeros."
   ],
   "metadata": {
    "collapsed": false,
    "pycharm": {
     "name": "#%% md\n"
    }
   }
  },
  {
   "cell_type": "code",
   "execution_count": null,
   "outputs": [],
   "source": [
    "# Extract the data\n",
    "with open(\"../data/initialization.pkl\", \"rb\") as f:\n",
    "    data = pickle.load(f)\n",
    "\n",
    "iterations = data[\"he initialization\"][\"iterations\"]\n",
    "costs = data[\"he initialization\"][\"costs\"]\n",
    "learning_rate = data[\"he initialization\"][\"learning_rate\"]\n",
    "\n",
    "# Print out the cost over the first 15000 iterations\n",
    "for iteration, cost in zip(iterations, costs):\n",
    "    print(\"Cost after iteration {}: {}\".format(iteration, cost))\n",
    "\n",
    "# Plot the cost over the first 15000 iterations\n",
    "Visualization.plot_the_cost(iterations, costs, learning_rate)\n",
    "\n",
    "# Print the accuracy of our model\n",
    "accuracy_train = data[\"he initialization\"][\"accuracy train set\"]\n",
    "accuracy_test = data[\"he initialization\"][\"accuracy test set\"]\n",
    "\n",
    "print (\"Accuracy of the model on the train set: \", accuracy_train)\n",
    "print (\"Accuracy of the model on the test set: \", accuracy_test)"
   ],
   "metadata": {
    "collapsed": false,
    "pycharm": {
     "name": "#%%\n"
    }
   }
  },
  {
   "cell_type": "markdown",
   "source": [],
   "metadata": {
    "collapsed": false
   }
  },
  {
   "cell_type": "markdown",
   "source": [
    "<a id='4-3-2'></a>\n",
    "## 4.3.2 - Analyzing the He Initialization ##\n",
    "\n",
    "Accuracy of the network using He initialization looks great! Let's take a look at the details of the predictions and the decision boundary by running the cell below."
   ],
   "metadata": {
    "collapsed": false,
    "pycharm": {
     "name": "#%% md\n"
    }
   }
  },
  {
   "cell_type": "code",
   "execution_count": null,
   "outputs": [],
   "source": [
    "# Generate the samples\n",
    "# Plot the dataset\n",
    "# Initialize the hyperparameters\n",
    "n_samples_train, n_samples_test = 300, 100\n",
    "noise_train, noise_test = .05, .05\n",
    "seed_train, seed_test = 1, 2\n",
    "\n",
    "# Generate the dataset\n",
    "train_X, train_Y, test_X, test_Y = generate_dataset(n_samples_train, n_samples_test, noise_train, noise_test, seed_train, seed_test)\n",
    "\n",
    "# Preprocess the dataset\n",
    "train_X, train_Y, test_X, test_Y = preprocess(train_X, train_Y, test_X, test_Y)\n",
    "\n",
    "# Extract the data\n",
    "with open(\"../data/initialization.pkl\", \"rb\") as f:\n",
    "    data = pickle.load(f)\n",
    "\n",
    "predictions_train = data[\"he initialization\"][\"predictions train\"]\n",
    "predictions_test = data[\"he initialization\"][\"predictions test\"]\n",
    "\n",
    "# Print the detailed predictions\n",
    "print (\"Predictions training: \" + str(predictions_train))\n",
    "print (\"predictions test: \" + str(predictions_test))\n",
    "\n",
    "# Plot the decision boundary of our model\n",
    "decision_train = data[\"he initialization\"][\"decision train\"]\n",
    "decision_test = data[\"he initialization\"][\"decision test\"]\n",
    "Visualization.plot_decision_boundary(decision_train, train_X, train_Y, decision_test, test_X, test_Y)"
   ],
   "metadata": {
    "collapsed": false,
    "pycharm": {
     "name": "#%%\n"
    }
   }
  },
  {
   "cell_type": "markdown",
   "source": [],
   "metadata": {
    "collapsed": false
   }
  },
  {
   "cell_type": "markdown",
   "source": [
    "<a id='4-3-3'></a>\n",
    "## 4.3.3 - Discussing the He Initialization ##\n",
    "\n",
    "**Observations**:\n",
    "- The model with He initialization separates the blue and the red dots very well in a small number of iterations."
   ],
   "metadata": {
    "collapsed": false,
    "pycharm": {
     "name": "#%% md\n"
    }
   }
  },
  {
   "cell_type": "markdown",
   "source": [
    "<a id='4-4'></a>\n",
    "## 4.4 - Conclusion ##\n",
    "\n",
    "You've tried three different types of initializations. For the same number of iterations and same hyperparameters, the comparison is:\n",
    "\n",
    "<table>\n",
    "    <tr>\n",
    "        <td>\n",
    "            <b>Model</b>\n",
    "        </td>\n",
    "        <td>\n",
    "            <b>Train accuracy</b>\n",
    "        </td>\n",
    "        <td>\n",
    "            <b>Problem/Comment</b>\n",
    "        </td>\n",
    "    </tr>\n",
    "        <td>\n",
    "        3-layer NN with zeros initialization\n",
    "        </td>\n",
    "        <td>\n",
    "        50%\n",
    "        </td>\n",
    "        <td>\n",
    "        fails to break symmetry\n",
    "        </td>\n",
    "    <tr>\n",
    "        <td>\n",
    "        3-layer NN with large random initialization\n",
    "        </td>\n",
    "        <td>\n",
    "        83%\n",
    "        </td>\n",
    "        <td>\n",
    "        too large weights\n",
    "        </td>\n",
    "    </tr>\n",
    "    <tr>\n",
    "        <td>\n",
    "        3-layer NN with He initialization\n",
    "        </td>\n",
    "        <td>\n",
    "        99%\n",
    "        </td>\n",
    "        <td>\n",
    "        recommended method\n",
    "        </td>\n",
    "    </tr>\n",
    "</table>"
   ],
   "metadata": {
    "collapsed": false,
    "pycharm": {
     "name": "#%% md\n"
    }
   }
  },
  {
   "cell_type": "markdown",
   "source": [
    "<a id='5'></a>\n",
    "## 5 - What to remember ##\n",
    "\n",
    "- Different initializations lead to very different results.\n",
    "- Random initialization is used to break symmetry and make sure different hidden units can learn different things.\n",
    "- Resist initializing to values that are too large!\n",
    "- He initialization works well for networks with ReLU activations\n",
    "- It's okay to initialize the biases $b^{[l]}$ to zeros. Symmetry is still broken so long as $W^{[l]}$ is initialized randomly."
   ],
   "metadata": {
    "collapsed": false,
    "pycharm": {
     "name": "#%% md\n"
    }
   }
  },
  {
   "cell_type": "markdown",
   "source": [
    "<a id='6'></a>\n",
    "## 6 - End of Exercise ##\n",
    "\n",
    "<div>\n",
    "<img src=\"../img/memes/meme_congrats_02.png\" width=\"700\"/>\n",
    "</div>\n",
    "\n",
    "Created with and licensed under [Adobe Express](https://www.adobe.com/de/express/)"
   ],
   "metadata": {
    "collapsed": false,
    "pycharm": {
     "name": "#%% md\n"
    }
   }
  },
  {
   "cell_type": "code",
   "execution_count": null,
   "outputs": [],
   "source": [],
   "metadata": {
    "collapsed": false,
    "pycharm": {
     "name": "#%%\n"
    }
   }
  }
 ],
 "metadata": {
  "kernelspec": {
   "display_name": "Python 3",
   "language": "python",
   "name": "python3"
  },
  "language_info": {
   "codemirror_mode": {
    "name": "ipython",
    "version": 2
   },
   "file_extension": ".py",
   "mimetype": "text/x-python",
   "name": "python",
   "nbconvert_exporter": "python",
   "pygments_lexer": "ipython2",
   "version": "2.7.6"
  }
 },
 "nbformat": 4,
 "nbformat_minor": 0
}
